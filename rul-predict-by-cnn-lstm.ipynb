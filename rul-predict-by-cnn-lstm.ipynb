{
 "cells": [
  {
   "cell_type": "code",
   "execution_count": 1,
   "id": "d2e7f7d1",
   "metadata": {
    "_cell_guid": "b1076dfc-b9ad-4769-8c92-a6c4dae69d19",
    "_uuid": "8f2839f25d086af736a60e9eeb907d3b93b6e0e5",
    "execution": {
     "iopub.execute_input": "2022-07-10T14:48:11.089407Z",
     "iopub.status.busy": "2022-07-10T14:48:11.088711Z",
     "iopub.status.idle": "2022-07-10T14:48:11.141309Z",
     "shell.execute_reply": "2022-07-10T14:48:11.139306Z"
    },
    "papermill": {
     "duration": 0.073741,
     "end_time": "2022-07-10T14:48:11.145775",
     "exception": false,
     "start_time": "2022-07-10T14:48:11.072034",
     "status": "completed"
    },
    "tags": []
   },
   "outputs": [
    {
     "name": "stdout",
     "output_type": "stream",
     "text": [
      "/kaggle/input/nasa-cmaps/CMaps/RUL_FD002.txt\n",
      "/kaggle/input/nasa-cmaps/CMaps/test_FD003.txt\n",
      "/kaggle/input/nasa-cmaps/CMaps/Damage Propagation Modeling.pdf\n",
      "/kaggle/input/nasa-cmaps/CMaps/readme.txt\n",
      "/kaggle/input/nasa-cmaps/CMaps/train_FD003.txt\n",
      "/kaggle/input/nasa-cmaps/CMaps/test_FD004.txt\n",
      "/kaggle/input/nasa-cmaps/CMaps/train_FD004.txt\n",
      "/kaggle/input/nasa-cmaps/CMaps/x.txt\n",
      "/kaggle/input/nasa-cmaps/CMaps/test_FD002.txt\n",
      "/kaggle/input/nasa-cmaps/CMaps/train_FD001.txt\n",
      "/kaggle/input/nasa-cmaps/CMaps/train_FD002.txt\n",
      "/kaggle/input/nasa-cmaps/CMaps/RUL_FD001.txt\n",
      "/kaggle/input/nasa-cmaps/CMaps/RUL_FD004.txt\n",
      "/kaggle/input/nasa-cmaps/CMaps/RUL_FD003.txt\n",
      "/kaggle/input/nasa-cmaps/CMaps/test_FD001.txt\n",
      "/kaggle/input/nasa-cmaps/cmaps/CMaps/RUL_FD002.txt\n",
      "/kaggle/input/nasa-cmaps/cmaps/CMaps/test_FD003.txt\n",
      "/kaggle/input/nasa-cmaps/cmaps/CMaps/Damage Propagation Modeling.pdf\n",
      "/kaggle/input/nasa-cmaps/cmaps/CMaps/readme.txt\n",
      "/kaggle/input/nasa-cmaps/cmaps/CMaps/train_FD003.txt\n",
      "/kaggle/input/nasa-cmaps/cmaps/CMaps/test_FD004.txt\n",
      "/kaggle/input/nasa-cmaps/cmaps/CMaps/train_FD004.txt\n",
      "/kaggle/input/nasa-cmaps/cmaps/CMaps/x.txt\n",
      "/kaggle/input/nasa-cmaps/cmaps/CMaps/test_FD002.txt\n",
      "/kaggle/input/nasa-cmaps/cmaps/CMaps/train_FD001.txt\n",
      "/kaggle/input/nasa-cmaps/cmaps/CMaps/train_FD002.txt\n",
      "/kaggle/input/nasa-cmaps/cmaps/CMaps/RUL_FD001.txt\n",
      "/kaggle/input/nasa-cmaps/cmaps/CMaps/RUL_FD004.txt\n",
      "/kaggle/input/nasa-cmaps/cmaps/CMaps/RUL_FD003.txt\n",
      "/kaggle/input/nasa-cmaps/cmaps/CMaps/test_FD001.txt\n"
     ]
    }
   ],
   "source": [
    "# This Python 3 environment comes with many helpful analytics libraries installed\n",
    "# It is defined by the kaggle/python Docker image: https://github.com/kaggle/docker-python\n",
    "# For example, here's several helpful packages to load\n",
    "\n",
    "import numpy as np # linear algebra\n",
    "import pandas as pd # data processing, CSV file I/O (e.g. pd.read_csv)\n",
    "\n",
    "# Input data files are available in the read-only \"../input/\" directory\n",
    "# For example, running this (by clicking run or pressing Shift+Enter) will list all files under the input directory\n",
    "\n",
    "import os\n",
    "for dirname, _, filenames in os.walk('/kaggle/input'):\n",
    "    for filename in filenames:\n",
    "        print(os.path.join(dirname, filename))\n",
    "\n",
    "# You can write up to 20GB to the current directory (/kaggle/working/) that gets preserved as output when you create a version using \"Save & Run All\" \n",
    "# You can also write temporary files to /kaggle/temp/, but they won't be saved outside of the current session"
   ]
  },
  {
   "cell_type": "code",
   "execution_count": 2,
   "id": "8cfb457f",
   "metadata": {
    "execution": {
     "iopub.execute_input": "2022-07-10T14:48:11.176085Z",
     "iopub.status.busy": "2022-07-10T14:48:11.175625Z",
     "iopub.status.idle": "2022-07-10T14:48:19.456211Z",
     "shell.execute_reply": "2022-07-10T14:48:19.454182Z"
    },
    "papermill": {
     "duration": 8.29802,
     "end_time": "2022-07-10T14:48:19.458399",
     "exception": false,
     "start_time": "2022-07-10T14:48:11.160379",
     "status": "completed"
    },
    "tags": []
   },
   "outputs": [
    {
     "name": "stdout",
     "output_type": "stream",
     "text": [
      "Tensorflow version:  2.6.4\n",
      "Numpy version:  1.21.6\n",
      "Pandas version:  1.3.5\n",
      "Scikit-learn version:  1.0.2\n"
     ]
    }
   ],
   "source": [
    "import tensorflow as tf\n",
    "from tensorflow.keras import layers\n",
    "from tensorflow.keras.models import Sequential\n",
    "\n",
    "import numpy as np\n",
    "import pandas as pd\n",
    "import sklearn\n",
    "import os\n",
    "import seaborn as sns\n",
    "from sklearn.model_selection import train_test_split\n",
    "\n",
    "from sklearn.preprocessing import StandardScaler\n",
    "from sklearn.metrics import mean_squared_error\n",
    "import matplotlib.pyplot as plt\n",
    "import random\n",
    "np.random.seed(34)\n",
    "print(\"Tensorflow version: \", tf.__version__)\n",
    "print(\"Numpy version: \", np.__version__)\n",
    "print(\"Pandas version: \", pd.__version__)\n",
    "print(\"Scikit-learn version: \", sklearn.__version__)"
   ]
  },
  {
   "cell_type": "code",
   "execution_count": 3,
   "id": "c8c3c700",
   "metadata": {
    "execution": {
     "iopub.execute_input": "2022-07-10T14:48:19.478203Z",
     "iopub.status.busy": "2022-07-10T14:48:19.476139Z",
     "iopub.status.idle": "2022-07-10T14:48:19.483051Z",
     "shell.execute_reply": "2022-07-10T14:48:19.481988Z"
    },
    "papermill": {
     "duration": 0.018389,
     "end_time": "2022-07-10T14:48:19.485201",
     "exception": false,
     "start_time": "2022-07-10T14:48:19.466812",
     "status": "completed"
    },
    "tags": []
   },
   "outputs": [],
   "source": [
    "columns=[\"id\",\"cycle\",\"op1\",\"op2\",\"op3\",\"sensor1\",\"sensor2\",\"sensor3\",\"sensor4\",\"sensor5\",\"sensor6\",\"sensor7\",\"sensor8\",\n",
    "         \"sensor9\",\"sensor10\",\"sensor11\",\"sensor12\",\"sensor13\",\"sensor14\",\"sensor15\",\"sensor16\",\"sensor17\",\"sensor18\",\"sensor19\"\n",
    "         ,\"sensor20\",\"sensor21\"]"
   ]
  },
  {
   "cell_type": "code",
   "execution_count": 4,
   "id": "8cd21a93",
   "metadata": {
    "execution": {
     "iopub.execute_input": "2022-07-10T14:48:19.503291Z",
     "iopub.status.busy": "2022-07-10T14:48:19.502303Z",
     "iopub.status.idle": "2022-07-10T14:48:19.653783Z",
     "shell.execute_reply": "2022-07-10T14:48:19.652658Z"
    },
    "papermill": {
     "duration": 0.163241,
     "end_time": "2022-07-10T14:48:19.656720",
     "exception": false,
     "start_time": "2022-07-10T14:48:19.493479",
     "status": "completed"
    },
    "tags": []
   },
   "outputs": [],
   "source": [
    "train_data = pd.read_csv(\"../input/nasa-cmaps/CMaps/train_FD001.txt\", sep= \"\\s+\", header = None,names=columns )"
   ]
  },
  {
   "cell_type": "code",
   "execution_count": 5,
   "id": "bd2561a7",
   "metadata": {
    "execution": {
     "iopub.execute_input": "2022-07-10T14:48:19.675118Z",
     "iopub.status.busy": "2022-07-10T14:48:19.674773Z",
     "iopub.status.idle": "2022-07-10T14:48:19.717432Z",
     "shell.execute_reply": "2022-07-10T14:48:19.716232Z"
    },
    "papermill": {
     "duration": 0.055534,
     "end_time": "2022-07-10T14:48:19.720594",
     "exception": false,
     "start_time": "2022-07-10T14:48:19.665060",
     "status": "completed"
    },
    "tags": []
   },
   "outputs": [
    {
     "data": {
      "text/html": [
       "<div>\n",
       "<style scoped>\n",
       "    .dataframe tbody tr th:only-of-type {\n",
       "        vertical-align: middle;\n",
       "    }\n",
       "\n",
       "    .dataframe tbody tr th {\n",
       "        vertical-align: top;\n",
       "    }\n",
       "\n",
       "    .dataframe thead th {\n",
       "        text-align: right;\n",
       "    }\n",
       "</style>\n",
       "<table border=\"1\" class=\"dataframe\">\n",
       "  <thead>\n",
       "    <tr style=\"text-align: right;\">\n",
       "      <th></th>\n",
       "      <th>id</th>\n",
       "      <th>cycle</th>\n",
       "      <th>op1</th>\n",
       "      <th>op2</th>\n",
       "      <th>op3</th>\n",
       "      <th>sensor1</th>\n",
       "      <th>sensor2</th>\n",
       "      <th>sensor3</th>\n",
       "      <th>sensor4</th>\n",
       "      <th>sensor5</th>\n",
       "      <th>...</th>\n",
       "      <th>sensor12</th>\n",
       "      <th>sensor13</th>\n",
       "      <th>sensor14</th>\n",
       "      <th>sensor15</th>\n",
       "      <th>sensor16</th>\n",
       "      <th>sensor17</th>\n",
       "      <th>sensor18</th>\n",
       "      <th>sensor19</th>\n",
       "      <th>sensor20</th>\n",
       "      <th>sensor21</th>\n",
       "    </tr>\n",
       "  </thead>\n",
       "  <tbody>\n",
       "    <tr>\n",
       "      <th>0</th>\n",
       "      <td>1</td>\n",
       "      <td>1</td>\n",
       "      <td>-0.0007</td>\n",
       "      <td>-0.0004</td>\n",
       "      <td>100.0</td>\n",
       "      <td>518.67</td>\n",
       "      <td>641.82</td>\n",
       "      <td>1589.70</td>\n",
       "      <td>1400.60</td>\n",
       "      <td>14.62</td>\n",
       "      <td>...</td>\n",
       "      <td>521.66</td>\n",
       "      <td>2388.02</td>\n",
       "      <td>8138.62</td>\n",
       "      <td>8.4195</td>\n",
       "      <td>0.03</td>\n",
       "      <td>392</td>\n",
       "      <td>2388</td>\n",
       "      <td>100.0</td>\n",
       "      <td>39.06</td>\n",
       "      <td>23.4190</td>\n",
       "    </tr>\n",
       "    <tr>\n",
       "      <th>1</th>\n",
       "      <td>1</td>\n",
       "      <td>2</td>\n",
       "      <td>0.0019</td>\n",
       "      <td>-0.0003</td>\n",
       "      <td>100.0</td>\n",
       "      <td>518.67</td>\n",
       "      <td>642.15</td>\n",
       "      <td>1591.82</td>\n",
       "      <td>1403.14</td>\n",
       "      <td>14.62</td>\n",
       "      <td>...</td>\n",
       "      <td>522.28</td>\n",
       "      <td>2388.07</td>\n",
       "      <td>8131.49</td>\n",
       "      <td>8.4318</td>\n",
       "      <td>0.03</td>\n",
       "      <td>392</td>\n",
       "      <td>2388</td>\n",
       "      <td>100.0</td>\n",
       "      <td>39.00</td>\n",
       "      <td>23.4236</td>\n",
       "    </tr>\n",
       "    <tr>\n",
       "      <th>2</th>\n",
       "      <td>1</td>\n",
       "      <td>3</td>\n",
       "      <td>-0.0043</td>\n",
       "      <td>0.0003</td>\n",
       "      <td>100.0</td>\n",
       "      <td>518.67</td>\n",
       "      <td>642.35</td>\n",
       "      <td>1587.99</td>\n",
       "      <td>1404.20</td>\n",
       "      <td>14.62</td>\n",
       "      <td>...</td>\n",
       "      <td>522.42</td>\n",
       "      <td>2388.03</td>\n",
       "      <td>8133.23</td>\n",
       "      <td>8.4178</td>\n",
       "      <td>0.03</td>\n",
       "      <td>390</td>\n",
       "      <td>2388</td>\n",
       "      <td>100.0</td>\n",
       "      <td>38.95</td>\n",
       "      <td>23.3442</td>\n",
       "    </tr>\n",
       "    <tr>\n",
       "      <th>3</th>\n",
       "      <td>1</td>\n",
       "      <td>4</td>\n",
       "      <td>0.0007</td>\n",
       "      <td>0.0000</td>\n",
       "      <td>100.0</td>\n",
       "      <td>518.67</td>\n",
       "      <td>642.35</td>\n",
       "      <td>1582.79</td>\n",
       "      <td>1401.87</td>\n",
       "      <td>14.62</td>\n",
       "      <td>...</td>\n",
       "      <td>522.86</td>\n",
       "      <td>2388.08</td>\n",
       "      <td>8133.83</td>\n",
       "      <td>8.3682</td>\n",
       "      <td>0.03</td>\n",
       "      <td>392</td>\n",
       "      <td>2388</td>\n",
       "      <td>100.0</td>\n",
       "      <td>38.88</td>\n",
       "      <td>23.3739</td>\n",
       "    </tr>\n",
       "    <tr>\n",
       "      <th>4</th>\n",
       "      <td>1</td>\n",
       "      <td>5</td>\n",
       "      <td>-0.0019</td>\n",
       "      <td>-0.0002</td>\n",
       "      <td>100.0</td>\n",
       "      <td>518.67</td>\n",
       "      <td>642.37</td>\n",
       "      <td>1582.85</td>\n",
       "      <td>1406.22</td>\n",
       "      <td>14.62</td>\n",
       "      <td>...</td>\n",
       "      <td>522.19</td>\n",
       "      <td>2388.04</td>\n",
       "      <td>8133.80</td>\n",
       "      <td>8.4294</td>\n",
       "      <td>0.03</td>\n",
       "      <td>393</td>\n",
       "      <td>2388</td>\n",
       "      <td>100.0</td>\n",
       "      <td>38.90</td>\n",
       "      <td>23.4044</td>\n",
       "    </tr>\n",
       "  </tbody>\n",
       "</table>\n",
       "<p>5 rows × 26 columns</p>\n",
       "</div>"
      ],
      "text/plain": [
       "   id  cycle     op1     op2    op3  sensor1  sensor2  sensor3  sensor4  \\\n",
       "0   1      1 -0.0007 -0.0004  100.0   518.67   641.82  1589.70  1400.60   \n",
       "1   1      2  0.0019 -0.0003  100.0   518.67   642.15  1591.82  1403.14   \n",
       "2   1      3 -0.0043  0.0003  100.0   518.67   642.35  1587.99  1404.20   \n",
       "3   1      4  0.0007  0.0000  100.0   518.67   642.35  1582.79  1401.87   \n",
       "4   1      5 -0.0019 -0.0002  100.0   518.67   642.37  1582.85  1406.22   \n",
       "\n",
       "   sensor5  ...  sensor12  sensor13  sensor14  sensor15  sensor16  sensor17  \\\n",
       "0    14.62  ...    521.66   2388.02   8138.62    8.4195      0.03       392   \n",
       "1    14.62  ...    522.28   2388.07   8131.49    8.4318      0.03       392   \n",
       "2    14.62  ...    522.42   2388.03   8133.23    8.4178      0.03       390   \n",
       "3    14.62  ...    522.86   2388.08   8133.83    8.3682      0.03       392   \n",
       "4    14.62  ...    522.19   2388.04   8133.80    8.4294      0.03       393   \n",
       "\n",
       "   sensor18  sensor19  sensor20  sensor21  \n",
       "0      2388     100.0     39.06   23.4190  \n",
       "1      2388     100.0     39.00   23.4236  \n",
       "2      2388     100.0     38.95   23.3442  \n",
       "3      2388     100.0     38.88   23.3739  \n",
       "4      2388     100.0     38.90   23.4044  \n",
       "\n",
       "[5 rows x 26 columns]"
      ]
     },
     "execution_count": 5,
     "metadata": {},
     "output_type": "execute_result"
    }
   ],
   "source": [
    "train_data. head() "
   ]
  },
  {
   "cell_type": "code",
   "execution_count": 6,
   "id": "8189347c",
   "metadata": {
    "execution": {
     "iopub.execute_input": "2022-07-10T14:48:19.739664Z",
     "iopub.status.busy": "2022-07-10T14:48:19.739228Z",
     "iopub.status.idle": "2022-07-10T14:48:19.872361Z",
     "shell.execute_reply": "2022-07-10T14:48:19.871211Z"
    },
    "papermill": {
     "duration": 0.145682,
     "end_time": "2022-07-10T14:48:19.875049",
     "exception": false,
     "start_time": "2022-07-10T14:48:19.729367",
     "status": "completed"
    },
    "tags": []
   },
   "outputs": [],
   "source": [
    "def add_rul(g):\n",
    "    g['RUL'] = max(g['cycle']) - g['cycle']\n",
    "    return g\n",
    "\n",
    "train = train_data.groupby('id').apply(add_rul)"
   ]
  },
  {
   "cell_type": "code",
   "execution_count": 7,
   "id": "f1bd61aa",
   "metadata": {
    "execution": {
     "iopub.execute_input": "2022-07-10T14:48:19.894488Z",
     "iopub.status.busy": "2022-07-10T14:48:19.894127Z",
     "iopub.status.idle": "2022-07-10T14:48:19.925773Z",
     "shell.execute_reply": "2022-07-10T14:48:19.924612Z"
    },
    "papermill": {
     "duration": 0.044249,
     "end_time": "2022-07-10T14:48:19.928243",
     "exception": false,
     "start_time": "2022-07-10T14:48:19.883994",
     "status": "completed"
    },
    "tags": []
   },
   "outputs": [
    {
     "data": {
      "text/html": [
       "<div>\n",
       "<style scoped>\n",
       "    .dataframe tbody tr th:only-of-type {\n",
       "        vertical-align: middle;\n",
       "    }\n",
       "\n",
       "    .dataframe tbody tr th {\n",
       "        vertical-align: top;\n",
       "    }\n",
       "\n",
       "    .dataframe thead th {\n",
       "        text-align: right;\n",
       "    }\n",
       "</style>\n",
       "<table border=\"1\" class=\"dataframe\">\n",
       "  <thead>\n",
       "    <tr style=\"text-align: right;\">\n",
       "      <th></th>\n",
       "      <th>id</th>\n",
       "      <th>cycle</th>\n",
       "      <th>op1</th>\n",
       "      <th>op2</th>\n",
       "      <th>op3</th>\n",
       "      <th>sensor1</th>\n",
       "      <th>sensor2</th>\n",
       "      <th>sensor3</th>\n",
       "      <th>sensor4</th>\n",
       "      <th>sensor5</th>\n",
       "      <th>...</th>\n",
       "      <th>sensor13</th>\n",
       "      <th>sensor14</th>\n",
       "      <th>sensor15</th>\n",
       "      <th>sensor16</th>\n",
       "      <th>sensor17</th>\n",
       "      <th>sensor18</th>\n",
       "      <th>sensor19</th>\n",
       "      <th>sensor20</th>\n",
       "      <th>sensor21</th>\n",
       "      <th>RUL</th>\n",
       "    </tr>\n",
       "  </thead>\n",
       "  <tbody>\n",
       "    <tr>\n",
       "      <th>0</th>\n",
       "      <td>1</td>\n",
       "      <td>1</td>\n",
       "      <td>-0.0007</td>\n",
       "      <td>-0.0004</td>\n",
       "      <td>100.0</td>\n",
       "      <td>518.67</td>\n",
       "      <td>641.82</td>\n",
       "      <td>1589.70</td>\n",
       "      <td>1400.60</td>\n",
       "      <td>14.62</td>\n",
       "      <td>...</td>\n",
       "      <td>2388.02</td>\n",
       "      <td>8138.62</td>\n",
       "      <td>8.4195</td>\n",
       "      <td>0.03</td>\n",
       "      <td>392</td>\n",
       "      <td>2388</td>\n",
       "      <td>100.0</td>\n",
       "      <td>39.06</td>\n",
       "      <td>23.4190</td>\n",
       "      <td>191</td>\n",
       "    </tr>\n",
       "    <tr>\n",
       "      <th>1</th>\n",
       "      <td>1</td>\n",
       "      <td>2</td>\n",
       "      <td>0.0019</td>\n",
       "      <td>-0.0003</td>\n",
       "      <td>100.0</td>\n",
       "      <td>518.67</td>\n",
       "      <td>642.15</td>\n",
       "      <td>1591.82</td>\n",
       "      <td>1403.14</td>\n",
       "      <td>14.62</td>\n",
       "      <td>...</td>\n",
       "      <td>2388.07</td>\n",
       "      <td>8131.49</td>\n",
       "      <td>8.4318</td>\n",
       "      <td>0.03</td>\n",
       "      <td>392</td>\n",
       "      <td>2388</td>\n",
       "      <td>100.0</td>\n",
       "      <td>39.00</td>\n",
       "      <td>23.4236</td>\n",
       "      <td>190</td>\n",
       "    </tr>\n",
       "    <tr>\n",
       "      <th>2</th>\n",
       "      <td>1</td>\n",
       "      <td>3</td>\n",
       "      <td>-0.0043</td>\n",
       "      <td>0.0003</td>\n",
       "      <td>100.0</td>\n",
       "      <td>518.67</td>\n",
       "      <td>642.35</td>\n",
       "      <td>1587.99</td>\n",
       "      <td>1404.20</td>\n",
       "      <td>14.62</td>\n",
       "      <td>...</td>\n",
       "      <td>2388.03</td>\n",
       "      <td>8133.23</td>\n",
       "      <td>8.4178</td>\n",
       "      <td>0.03</td>\n",
       "      <td>390</td>\n",
       "      <td>2388</td>\n",
       "      <td>100.0</td>\n",
       "      <td>38.95</td>\n",
       "      <td>23.3442</td>\n",
       "      <td>189</td>\n",
       "    </tr>\n",
       "    <tr>\n",
       "      <th>3</th>\n",
       "      <td>1</td>\n",
       "      <td>4</td>\n",
       "      <td>0.0007</td>\n",
       "      <td>0.0000</td>\n",
       "      <td>100.0</td>\n",
       "      <td>518.67</td>\n",
       "      <td>642.35</td>\n",
       "      <td>1582.79</td>\n",
       "      <td>1401.87</td>\n",
       "      <td>14.62</td>\n",
       "      <td>...</td>\n",
       "      <td>2388.08</td>\n",
       "      <td>8133.83</td>\n",
       "      <td>8.3682</td>\n",
       "      <td>0.03</td>\n",
       "      <td>392</td>\n",
       "      <td>2388</td>\n",
       "      <td>100.0</td>\n",
       "      <td>38.88</td>\n",
       "      <td>23.3739</td>\n",
       "      <td>188</td>\n",
       "    </tr>\n",
       "    <tr>\n",
       "      <th>4</th>\n",
       "      <td>1</td>\n",
       "      <td>5</td>\n",
       "      <td>-0.0019</td>\n",
       "      <td>-0.0002</td>\n",
       "      <td>100.0</td>\n",
       "      <td>518.67</td>\n",
       "      <td>642.37</td>\n",
       "      <td>1582.85</td>\n",
       "      <td>1406.22</td>\n",
       "      <td>14.62</td>\n",
       "      <td>...</td>\n",
       "      <td>2388.04</td>\n",
       "      <td>8133.80</td>\n",
       "      <td>8.4294</td>\n",
       "      <td>0.03</td>\n",
       "      <td>393</td>\n",
       "      <td>2388</td>\n",
       "      <td>100.0</td>\n",
       "      <td>38.90</td>\n",
       "      <td>23.4044</td>\n",
       "      <td>187</td>\n",
       "    </tr>\n",
       "  </tbody>\n",
       "</table>\n",
       "<p>5 rows × 27 columns</p>\n",
       "</div>"
      ],
      "text/plain": [
       "   id  cycle     op1     op2    op3  sensor1  sensor2  sensor3  sensor4  \\\n",
       "0   1      1 -0.0007 -0.0004  100.0   518.67   641.82  1589.70  1400.60   \n",
       "1   1      2  0.0019 -0.0003  100.0   518.67   642.15  1591.82  1403.14   \n",
       "2   1      3 -0.0043  0.0003  100.0   518.67   642.35  1587.99  1404.20   \n",
       "3   1      4  0.0007  0.0000  100.0   518.67   642.35  1582.79  1401.87   \n",
       "4   1      5 -0.0019 -0.0002  100.0   518.67   642.37  1582.85  1406.22   \n",
       "\n",
       "   sensor5  ...  sensor13  sensor14  sensor15  sensor16  sensor17  sensor18  \\\n",
       "0    14.62  ...   2388.02   8138.62    8.4195      0.03       392      2388   \n",
       "1    14.62  ...   2388.07   8131.49    8.4318      0.03       392      2388   \n",
       "2    14.62  ...   2388.03   8133.23    8.4178      0.03       390      2388   \n",
       "3    14.62  ...   2388.08   8133.83    8.3682      0.03       392      2388   \n",
       "4    14.62  ...   2388.04   8133.80    8.4294      0.03       393      2388   \n",
       "\n",
       "   sensor19  sensor20  sensor21  RUL  \n",
       "0     100.0     39.06   23.4190  191  \n",
       "1     100.0     39.00   23.4236  190  \n",
       "2     100.0     38.95   23.3442  189  \n",
       "3     100.0     38.88   23.3739  188  \n",
       "4     100.0     38.90   23.4044  187  \n",
       "\n",
       "[5 rows x 27 columns]"
      ]
     },
     "execution_count": 7,
     "metadata": {},
     "output_type": "execute_result"
    }
   ],
   "source": [
    "train.head() "
   ]
  },
  {
   "cell_type": "code",
   "execution_count": 8,
   "id": "369a0de5",
   "metadata": {
    "execution": {
     "iopub.execute_input": "2022-07-10T14:48:19.949857Z",
     "iopub.status.busy": "2022-07-10T14:48:19.948026Z",
     "iopub.status.idle": "2022-07-10T14:48:19.979072Z",
     "shell.execute_reply": "2022-07-10T14:48:19.977935Z"
    },
    "papermill": {
     "duration": 0.044131,
     "end_time": "2022-07-10T14:48:19.981785",
     "exception": false,
     "start_time": "2022-07-10T14:48:19.937654",
     "status": "completed"
    },
    "tags": []
   },
   "outputs": [
    {
     "data": {
      "text/html": [
       "<div>\n",
       "<style scoped>\n",
       "    .dataframe tbody tr th:only-of-type {\n",
       "        vertical-align: middle;\n",
       "    }\n",
       "\n",
       "    .dataframe tbody tr th {\n",
       "        vertical-align: top;\n",
       "    }\n",
       "\n",
       "    .dataframe thead th {\n",
       "        text-align: right;\n",
       "    }\n",
       "</style>\n",
       "<table border=\"1\" class=\"dataframe\">\n",
       "  <thead>\n",
       "    <tr style=\"text-align: right;\">\n",
       "      <th></th>\n",
       "      <th>id</th>\n",
       "      <th>cycle</th>\n",
       "      <th>op1</th>\n",
       "      <th>op2</th>\n",
       "      <th>op3</th>\n",
       "      <th>sensor1</th>\n",
       "      <th>sensor2</th>\n",
       "      <th>sensor3</th>\n",
       "      <th>sensor4</th>\n",
       "      <th>sensor5</th>\n",
       "      <th>...</th>\n",
       "      <th>sensor12</th>\n",
       "      <th>sensor13</th>\n",
       "      <th>sensor14</th>\n",
       "      <th>sensor15</th>\n",
       "      <th>sensor16</th>\n",
       "      <th>sensor17</th>\n",
       "      <th>sensor18</th>\n",
       "      <th>sensor19</th>\n",
       "      <th>sensor20</th>\n",
       "      <th>sensor21</th>\n",
       "    </tr>\n",
       "  </thead>\n",
       "  <tbody>\n",
       "    <tr>\n",
       "      <th>0</th>\n",
       "      <td>1</td>\n",
       "      <td>1</td>\n",
       "      <td>-0.0007</td>\n",
       "      <td>-0.0004</td>\n",
       "      <td>100.0</td>\n",
       "      <td>518.67</td>\n",
       "      <td>641.82</td>\n",
       "      <td>1589.70</td>\n",
       "      <td>1400.60</td>\n",
       "      <td>14.62</td>\n",
       "      <td>...</td>\n",
       "      <td>521.66</td>\n",
       "      <td>2388.02</td>\n",
       "      <td>8138.62</td>\n",
       "      <td>8.4195</td>\n",
       "      <td>0.03</td>\n",
       "      <td>392</td>\n",
       "      <td>2388</td>\n",
       "      <td>100.0</td>\n",
       "      <td>39.06</td>\n",
       "      <td>23.4190</td>\n",
       "    </tr>\n",
       "    <tr>\n",
       "      <th>1</th>\n",
       "      <td>1</td>\n",
       "      <td>2</td>\n",
       "      <td>0.0019</td>\n",
       "      <td>-0.0003</td>\n",
       "      <td>100.0</td>\n",
       "      <td>518.67</td>\n",
       "      <td>642.15</td>\n",
       "      <td>1591.82</td>\n",
       "      <td>1403.14</td>\n",
       "      <td>14.62</td>\n",
       "      <td>...</td>\n",
       "      <td>522.28</td>\n",
       "      <td>2388.07</td>\n",
       "      <td>8131.49</td>\n",
       "      <td>8.4318</td>\n",
       "      <td>0.03</td>\n",
       "      <td>392</td>\n",
       "      <td>2388</td>\n",
       "      <td>100.0</td>\n",
       "      <td>39.00</td>\n",
       "      <td>23.4236</td>\n",
       "    </tr>\n",
       "    <tr>\n",
       "      <th>2</th>\n",
       "      <td>1</td>\n",
       "      <td>3</td>\n",
       "      <td>-0.0043</td>\n",
       "      <td>0.0003</td>\n",
       "      <td>100.0</td>\n",
       "      <td>518.67</td>\n",
       "      <td>642.35</td>\n",
       "      <td>1587.99</td>\n",
       "      <td>1404.20</td>\n",
       "      <td>14.62</td>\n",
       "      <td>...</td>\n",
       "      <td>522.42</td>\n",
       "      <td>2388.03</td>\n",
       "      <td>8133.23</td>\n",
       "      <td>8.4178</td>\n",
       "      <td>0.03</td>\n",
       "      <td>390</td>\n",
       "      <td>2388</td>\n",
       "      <td>100.0</td>\n",
       "      <td>38.95</td>\n",
       "      <td>23.3442</td>\n",
       "    </tr>\n",
       "    <tr>\n",
       "      <th>3</th>\n",
       "      <td>1</td>\n",
       "      <td>4</td>\n",
       "      <td>0.0007</td>\n",
       "      <td>0.0000</td>\n",
       "      <td>100.0</td>\n",
       "      <td>518.67</td>\n",
       "      <td>642.35</td>\n",
       "      <td>1582.79</td>\n",
       "      <td>1401.87</td>\n",
       "      <td>14.62</td>\n",
       "      <td>...</td>\n",
       "      <td>522.86</td>\n",
       "      <td>2388.08</td>\n",
       "      <td>8133.83</td>\n",
       "      <td>8.3682</td>\n",
       "      <td>0.03</td>\n",
       "      <td>392</td>\n",
       "      <td>2388</td>\n",
       "      <td>100.0</td>\n",
       "      <td>38.88</td>\n",
       "      <td>23.3739</td>\n",
       "    </tr>\n",
       "    <tr>\n",
       "      <th>4</th>\n",
       "      <td>1</td>\n",
       "      <td>5</td>\n",
       "      <td>-0.0019</td>\n",
       "      <td>-0.0002</td>\n",
       "      <td>100.0</td>\n",
       "      <td>518.67</td>\n",
       "      <td>642.37</td>\n",
       "      <td>1582.85</td>\n",
       "      <td>1406.22</td>\n",
       "      <td>14.62</td>\n",
       "      <td>...</td>\n",
       "      <td>522.19</td>\n",
       "      <td>2388.04</td>\n",
       "      <td>8133.80</td>\n",
       "      <td>8.4294</td>\n",
       "      <td>0.03</td>\n",
       "      <td>393</td>\n",
       "      <td>2388</td>\n",
       "      <td>100.0</td>\n",
       "      <td>38.90</td>\n",
       "      <td>23.4044</td>\n",
       "    </tr>\n",
       "  </tbody>\n",
       "</table>\n",
       "<p>5 rows × 26 columns</p>\n",
       "</div>"
      ],
      "text/plain": [
       "   id  cycle     op1     op2    op3  sensor1  sensor2  sensor3  sensor4  \\\n",
       "0   1      1 -0.0007 -0.0004  100.0   518.67   641.82  1589.70  1400.60   \n",
       "1   1      2  0.0019 -0.0003  100.0   518.67   642.15  1591.82  1403.14   \n",
       "2   1      3 -0.0043  0.0003  100.0   518.67   642.35  1587.99  1404.20   \n",
       "3   1      4  0.0007  0.0000  100.0   518.67   642.35  1582.79  1401.87   \n",
       "4   1      5 -0.0019 -0.0002  100.0   518.67   642.37  1582.85  1406.22   \n",
       "\n",
       "   sensor5  ...  sensor12  sensor13  sensor14  sensor15  sensor16  sensor17  \\\n",
       "0    14.62  ...    521.66   2388.02   8138.62    8.4195      0.03       392   \n",
       "1    14.62  ...    522.28   2388.07   8131.49    8.4318      0.03       392   \n",
       "2    14.62  ...    522.42   2388.03   8133.23    8.4178      0.03       390   \n",
       "3    14.62  ...    522.86   2388.08   8133.83    8.3682      0.03       392   \n",
       "4    14.62  ...    522.19   2388.04   8133.80    8.4294      0.03       393   \n",
       "\n",
       "   sensor18  sensor19  sensor20  sensor21  \n",
       "0      2388     100.0     39.06   23.4190  \n",
       "1      2388     100.0     39.00   23.4236  \n",
       "2      2388     100.0     38.95   23.3442  \n",
       "3      2388     100.0     38.88   23.3739  \n",
       "4      2388     100.0     38.90   23.4044  \n",
       "\n",
       "[5 rows x 26 columns]"
      ]
     },
     "execution_count": 8,
     "metadata": {},
     "output_type": "execute_result"
    }
   ],
   "source": [
    " train_data.head() "
   ]
  },
  {
   "cell_type": "markdown",
   "id": "c64d5c83",
   "metadata": {
    "papermill": {
     "duration": 0.00862,
     "end_time": "2022-07-10T14:48:20.000521",
     "exception": false,
     "start_time": "2022-07-10T14:48:19.991901",
     "status": "completed"
    },
    "tags": []
   },
   "source": []
  },
  {
   "cell_type": "code",
   "execution_count": 9,
   "id": "abe7efb7",
   "metadata": {
    "execution": {
     "iopub.execute_input": "2022-07-10T14:48:20.021462Z",
     "iopub.status.busy": "2022-07-10T14:48:20.021056Z",
     "iopub.status.idle": "2022-07-10T14:48:21.554914Z",
     "shell.execute_reply": "2022-07-10T14:48:21.553657Z"
    },
    "papermill": {
     "duration": 1.548648,
     "end_time": "2022-07-10T14:48:21.558394",
     "exception": false,
     "start_time": "2022-07-10T14:48:20.009746",
     "status": "completed"
    },
    "tags": []
   },
   "outputs": [
    {
     "data": {
      "image/png": "[encoded data removed]",
      "text/plain": [
       "<Figure size 864x2160 with 1 Axes>"
      ]
     },
     "metadata": {},
     "output_type": "display_data"
    }
   ],
   "source": [
    "cnt_train=train_data[[\"id\", \"cycle\"]].groupby(\"id\").max().sort_values(by=\"cycle\", ascending=True)\n",
    "cnt_ind = [str(i) for i in cnt_train.index.to_list()]\n",
    "cnt_val = list(cnt_train.cycle.values)\n",
    "\n",
    "plt.style.use(\"fivethirtyeight\")\n",
    "fig, ax = plt.subplots(figsize=(12, 30))\n",
    "rects = ax.barh(cnt_ind, cnt_val)\n",
    "ax.set_title(\"Number of Cycles of Different Engines\", fontsize=22)\n",
    "ax.set_ylabel(\"Engine Id\", fontsize=18)\n",
    "ax.set_xlabel(\"Number of Cycles\", fontsize=18)\n",
    "ax.grid(True)\n",
    "\n",
    "for rect in rects:\n",
    "    width = rect.get_width()\n",
    "    plt.text(1.05*rect.get_width(), rect.get_y()+0.5*rect.get_height(),\n",
    "             '%d' % int(width),\n",
    "             ha='center', va='center')"
   ]
  },
  {
   "cell_type": "code",
   "execution_count": 10,
   "id": "3a6e4fb1",
   "metadata": {
    "execution": {
     "iopub.execute_input": "2022-07-10T14:48:21.584869Z",
     "iopub.status.busy": "2022-07-10T14:48:21.584454Z",
     "iopub.status.idle": "2022-07-10T14:48:22.380579Z",
     "shell.execute_reply": "2022-07-10T14:48:22.379398Z"
    },
    "papermill": {
     "duration": 0.815957,
     "end_time": "2022-07-10T14:48:22.387175",
     "exception": false,
     "start_time": "2022-07-10T14:48:21.571218",
     "status": "completed"
    },
    "tags": []
   },
   "outputs": [
    {
     "data": {
      "image/png": "[encoded data removed]",
      "text/plain": [
       "<Figure size 1296x720 with 1 Axes>"
      ]
     },
     "metadata": {},
     "output_type": "display_data"
    }
   ],
   "source": [
    "subset_stats = train_data.agg(['mean', 'std']).T[2:]\n",
    "ax = subset_stats.plot.bar(figsize=(18,10), \n",
    "                           y=\"std\")\n",
    "ax.set_title(\"Standard Deviation of Every Sensor From Every Engine\", fontsize=22)\n",
    "ax.set_xlabel(\"Sensor\", fontsize=18)\n",
    "ax.set_ylabel(\"Standard Deviation\", fontsize=18)\n",
    "\n",
    "for p in ax.patches:\n",
    "    ax.annotate(str(round(p.get_height(),3)), (p.get_x() * 1.005, p.get_height() * 1.005))"
   ]
  },
  {
   "cell_type": "markdown",
   "id": "83e45a15",
   "metadata": {
    "papermill": {
     "duration": 0.018843,
     "end_time": "2022-07-10T14:48:22.428556",
     "exception": false,
     "start_time": "2022-07-10T14:48:22.409713",
     "status": "completed"
    },
    "tags": []
   },
   "source": []
  },
  {
   "cell_type": "code",
   "execution_count": 11,
   "id": "48672e0c",
   "metadata": {
    "execution": {
     "iopub.execute_input": "2022-07-10T14:48:22.470277Z",
     "iopub.status.busy": "2022-07-10T14:48:22.469789Z",
     "iopub.status.idle": "2022-07-10T14:48:22.481968Z",
     "shell.execute_reply": "2022-07-10T14:48:22.480979Z"
    },
    "papermill": {
     "duration": 0.036588,
     "end_time": "2022-07-10T14:48:22.484894",
     "exception": false,
     "start_time": "2022-07-10T14:48:22.448306",
     "status": "completed"
    },
    "tags": []
   },
   "outputs": [
    {
     "data": {
      "text/plain": [
       "'no_std_sensors = [\\'op3\\', \\'sensor1\\', \\'sensor5\\', \\'sensor10\\',\\n                 \\'sensor16\\', \\'sensor18\\', \\'sensor19\\']\\ntrain = train_data.drop(no_std_sensors, axis=1)\\n#Let\\'s also plot some sensor data over the cycles of some engines.\\n\\ndef plot_ts_sensors(engine_ids, sensor):\\n    sub_df = train[train[\"id\"].isin(engine_ids)][[\"id\", \"cycle\", sensor]]\\n    sub_df = sub_df.pivot(columns=\"id\", index=\"cycle\", values=sensor)\\n    ax = sub_df.plot(figsize=(18,10))\\n    ax.set_title(f\"{sensor}\", fontsize=22, style=\"italic\")\\n    ax.set_xlabel(\"cycle\", fontsize=18)\\n    ax.set_ylabel(\"value\", fontsize=18)\\nplt_sensors = list(train.columns)[2:]\\nnum_ex = 8\\nfor sens in plt_sensors:\\n    plot_ts_sensors(random.sample(range(1, 100), num_ex), sens)\\n'"
      ]
     },
     "execution_count": 11,
     "metadata": {},
     "output_type": "execute_result"
    }
   ],
   "source": [
    "\"\"\"no_std_sensors = ['op3', 'sensor1', 'sensor5', 'sensor10',\n",
    "                 'sensor16', 'sensor18', 'sensor19']\n",
    "train = train_data.drop(no_std_sensors, axis=1)\n",
    "#Let's also plot some sensor data over the cycles of some engines.\n",
    "\n",
    "def plot_ts_sensors(engine_ids, sensor):\n",
    "    sub_df = train[train[\"id\"].isin(engine_ids)][[\"id\", \"cycle\", sensor]]\n",
    "    sub_df = sub_df.pivot(columns=\"id\", index=\"cycle\", values=sensor)\n",
    "    ax = sub_df.plot(figsize=(18,10))\n",
    "    ax.set_title(f\"{sensor}\", fontsize=22, style=\"italic\")\n",
    "    ax.set_xlabel(\"cycle\", fontsize=18)\n",
    "    ax.set_ylabel(\"value\", fontsize=18)\n",
    "plt_sensors = list(train.columns)[2:]\n",
    "num_ex = 8\n",
    "for sens in plt_sensors:\n",
    "    plot_ts_sensors(random.sample(range(1, 100), num_ex), sens)\n",
    "\"\"\""
   ]
  },
  {
   "cell_type": "code",
   "execution_count": 12,
   "id": "781989f9",
   "metadata": {
    "execution": {
     "iopub.execute_input": "2022-07-10T14:48:22.529811Z",
     "iopub.status.busy": "2022-07-10T14:48:22.528640Z",
     "iopub.status.idle": "2022-07-10T14:48:22.551908Z",
     "shell.execute_reply": "2022-07-10T14:48:22.550891Z"
    },
    "papermill": {
     "duration": 0.049212,
     "end_time": "2022-07-10T14:48:22.554538",
     "exception": false,
     "start_time": "2022-07-10T14:48:22.505326",
     "status": "completed"
    },
    "tags": []
   },
   "outputs": [],
   "source": [
    "def process_targets(data_length, early_rul = None):\n",
    "    \"\"\" \n",
    "    Takes datalength and earlyrul as input and \n",
    "    creates target rul.\n",
    "    \"\"\"\n",
    "    if early_rul == None:\n",
    "        return np.arange(data_length-1, -1, -1)\n",
    "    else:\n",
    "        early_rul_duration = data_length - early_rul\n",
    "        if early_rul_duration <= 0:\n",
    "            return np.arange(data_length-1, -1, -1)\n",
    "        else:\n",
    "            return np.append(early_rul*np.ones(shape = (early_rul_duration,)), np.arange(early_rul-1, -1, -1))\n",
    "def process_input_data_with_targets(input_data, target_data = None, window_length = 1, shift = 1):\n",
    "    \"\"\"Depending on values of window_length and shift, this function generates batchs of data and targets \n",
    "    from input_data and target_data.\n",
    "    \n",
    "    Number of batches = np.floor((len(input_data) - window_length)/shift) + 1\n",
    "    \n",
    "    **We don't check input dimensions uisng exception handling. So readers should be careful while using these\n",
    "    functions. If input data are not of desired dimension, either error occurs or something undesirable is \n",
    "    produced as output.**\n",
    "    \n",
    "    Arguments:\n",
    "        input_data: input data to function (Must be 2 dimensional)\n",
    "        target_data: input rul values (Must be 1D array)s\n",
    "        window_length: window length of data\n",
    "        shift: Distance by which the window moves for next batch. This is closely related to overlap\n",
    "               between data. For example, if window length is 30 and shift is 1, there is an overlap of \n",
    "               29 data points between two consecutive batches.\n",
    "        \n",
    "    \"\"\"\n",
    "    num_batches = np.int(np.floor((len(input_data) - window_length)/shift)) + 1\n",
    "    num_features = input_data.shape[1]\n",
    "    output_data = np.repeat(np.nan, repeats = num_batches * window_length * num_features).reshape(num_batches, window_length,\n",
    "                                                                                                  num_features)\n",
    "    if target_data is None:\n",
    "        for batch in range(num_batches):\n",
    "            output_data[batch,:,:] = input_data[(0+shift*batch):(0+shift*batch+window_length),:]\n",
    "        return output_data\n",
    "    else:\n",
    "        output_targets = np.repeat(np.nan, repeats = num_batches)\n",
    "        for batch in range(num_batches):\n",
    "            output_data[batch,:,:] = input_data[(0+shift*batch):(0+shift*batch+window_length),:]\n",
    "            output_targets[batch] = target_data[(shift*batch + (window_length-1))]\n",
    "        return output_data, output_targets\n",
    "def process_test_data(test_data_for_an_engine, window_length, shift, num_test_windows = 1):\n",
    "    \"\"\" This function takes test data for an engine as first input. The next two inputs\n",
    "    window_length and shift are same as other functins. \n",
    "    \n",
    "    Finally it takes num_test_windows as the last input. num_test_windows sets how many examplles we\n",
    "    want from test data (from last). By default it extracts only the last example.\n",
    "    \n",
    "    The function return last examples and number of last examples (a scaler) as output. \n",
    "    We need the second output later. If we are extracting more than 1 last examples, we have to \n",
    "    average their prediction results. The second scaler halps us do just that.\n",
    "    \"\"\"\n",
    "    max_num_test_batches = np.int(np.floor((len(test_data_for_an_engine) - window_length)/shift)) + 1\n",
    "    if max_num_test_batches < num_test_windows:\n",
    "        required_len = (max_num_test_batches -1)* shift + window_length\n",
    "        batched_test_data_for_an_engine = process_input_data_with_targets(test_data_for_an_engine[-required_len:, :],\n",
    "                                                                          target_data = None,\n",
    "                                                                          window_length = window_length, shift = shift)\n",
    "        return batched_test_data_for_an_engine, max_num_test_batches\n",
    "    else:\n",
    "        required_len = (num_test_windows - 1) * shift + window_length\n",
    "        batched_test_data_for_an_engine = process_input_data_with_targets(test_data_for_an_engine[-required_len:, :],\n",
    "                                                                          target_data = None,\n",
    "                                                                          window_length = window_length, shift = shift)\n",
    "        return batched_test_data_for_an_engine, num_test_windows"
   ]
  },
  {
   "cell_type": "code",
   "execution_count": 13,
   "id": "7a9a72d8",
   "metadata": {
    "execution": {
     "iopub.execute_input": "2022-07-10T14:48:22.582336Z",
     "iopub.status.busy": "2022-07-10T14:48:22.581948Z",
     "iopub.status.idle": "2022-07-10T14:48:22.692773Z",
     "shell.execute_reply": "2022-07-10T14:48:22.691624Z"
    },
    "papermill": {
     "duration": 0.127818,
     "end_time": "2022-07-10T14:48:22.695090",
     "exception": false,
     "start_time": "2022-07-10T14:48:22.567272",
     "status": "completed"
    },
    "tags": []
   },
   "outputs": [
    {
     "data": {
      "text/plain": [
       "'window_length = 30\\nshift = 1\\nearly_rul = 125           \\nprocessed_train_data = []\\nprocessed_train_targets = []\\n\\n# How many test windows to take for each engine. If set to 1 (this is the default), only last window of test data for \\n# each engine is taken. If set to a different number, that many windows from last are taken. \\n# Final output is the average output of all windows.\\nnum_test_windows = 5     \\nprocessed_test_data = []\\nnum_test_windows_list = []\\n\\ncolumns_to_be_dropped =[\\'id\\',\\'op1\\',\\'op2\\',\\'op3\\', \\'sensor1\\', \\'sensor5\\',\\'sensor6\\',\\'sensor7\\', \\'sensor10\\',\\n                 \\'sensor16\\', \\'sensor18\\', \\'sensor19\\']\\n\\ntrain_data_first_column = train_data [\"id\"]\\ntest_data_first_column = test_data[\"id\"]\\n\\n# Scale data for all engines\\nscaler = StandardScaler()\\ntrain_data = scaler.fit_transform(train_data.drop(columns = columns_to_be_dropped))\\ntest_data = scaler.transform(test_data.drop(columns = columns_to_be_dropped))\\n\\ntrain_data = pd.DataFrame(data = np.c_[train_data_first_column, train_data])\\ntest_data = pd.DataFrame(data = np.c_[test_data_first_column, test_data])\\n\\nnum_train_machines = len(train_data[0].unique())\\nnum_test_machines = len(test_data[0].unique())\\n\\n# Process training and test data sepeartely as number of engines in training and test set may be different.\\n# As we are doing scaling for full dataset, we are not bothered by different number of engines in training and test set.\\n\\n# Process trianing data\\nfor i in np.arange(1, num_train_machines + 1):\\n    temp_train_data = train_data[train_data[0] == i].drop(columns = [0]).values\\n    \\n    # Verify if data of given window length can be extracted from training data\\n    if (len(temp_train_data) < window_length):\\n        print(\"Train engine {} doesn\\'t have enough data for window_length of {}\".format(i, window_length))\\n        raise AssertionError(\"Window length is larger than number of data points for some engines. \"\\n                             \"Try decreasing window length.\")\\n        \\n    temp_train_targets = process_targets(data_length = temp_train_data.shape[0], early_rul = early_rul)\\n    data_for_a_machine, targets_for_a_machine = process_input_data_with_targets(temp_train_data, temp_train_targets, \\n                                                                                window_length = window_length, shift = shift)\\n    \\n    processed_train_data.append(data_for_a_machine)\\n    processed_train_targets.append(targets_for_a_machine)\\n\\nprocessed_train_data = np.concatenate(processed_train_data)\\nprocessed_train_targets = np.concatenate(processed_train_targets)\\n\\n# Process test data\\nfor i in np.arange(1, num_test_machines + 1):\\n    temp_test_data = test_data[test_data[0] == i].drop(columns = [0]).values\\n    \\n    # Verify if data of given window length can be extracted from test data\\n    if (len(temp_test_data) < window_length):\\n        print(\"Test engine {} doesn\\'t have enough data for window_length of {}\".format(i, window_length))\\n        raise AssertionError(\"Window length is larger than number of data points for some engines. \"\\n                             \"Try decreasing window length.\")\\n    \\n    # Prepare test data\\n    test_data_for_an_engine, num_windows = process_test_data(temp_test_data, window_length = window_length, shift = shift,\\n                                                             num_test_windows = num_test_windows)\\n    \\n    processed_test_data.append(test_data_for_an_engine)\\n    num_test_windows_list.append(num_windows)\\n\\nprocessed_test_data = np.concatenate(processed_test_data)\\ntrue_rul = true_rul[0].values\\n\\n# Shuffle training data\\nindex = np.random.permutation(len(processed_train_targets))\\nprocessed_train_data, processed_train_targets = processed_train_data[index], processed_train_targets[index]\\n\\nprint(\"Processed trianing data shape: \", processed_train_data.shape)\\nprint(\"Processed training ruls shape: \", processed_train_targets.shape)\\nprint(\"Processed test data shape: \", processed_test_data.shape)\\nprint(\"True RUL shape: \", true_rul.shape)\\n'"
      ]
     },
     "execution_count": 13,
     "metadata": {},
     "output_type": "execute_result"
    }
   ],
   "source": [
    "test_data = pd.read_csv(\"../input/nasa-cmaps/CMaps/test_FD001.txt\", sep = \"\\s+\", header = None,names=columns )\n",
    "true_rul = pd.read_csv(\"../input/nasa-cmaps/CMaps/RUL_FD001.txt\", sep = '\\s+', header = None)\n",
    "\n",
    "\"\"\"window_length = 30\n",
    "shift = 1\n",
    "early_rul = 125           \n",
    "processed_train_data = []\n",
    "processed_train_targets = []\n",
    "\n",
    "# How many test windows to take for each engine. If set to 1 (this is the default), only last window of test data for \n",
    "# each engine is taken. If set to a different number, that many windows from last are taken. \n",
    "# Final output is the average output of all windows.\n",
    "num_test_windows = 5     \n",
    "processed_test_data = []\n",
    "num_test_windows_list = []\n",
    "\n",
    "columns_to_be_dropped =['id','op1','op2','op3', 'sensor1', 'sensor5','sensor6','sensor7', 'sensor10',\n",
    "                 'sensor16', 'sensor18', 'sensor19']\n",
    "\n",
    "train_data_first_column = train_data [\"id\"]\n",
    "test_data_first_column = test_data[\"id\"]\n",
    "\n",
    "# Scale data for all engines\n",
    "scaler = StandardScaler()\n",
    "train_data = scaler.fit_transform(train_data.drop(columns = columns_to_be_dropped))\n",
    "test_data = scaler.transform(test_data.drop(columns = columns_to_be_dropped))\n",
    "\n",
    "train_data = pd.DataFrame(data = np.c_[train_data_first_column, train_data])\n",
    "test_data = pd.DataFrame(data = np.c_[test_data_first_column, test_data])\n",
    "\n",
    "num_train_machines = len(train_data[0].unique())\n",
    "num_test_machines = len(test_data[0].unique())\n",
    "\n",
    "# Process training and test data sepeartely as number of engines in training and test set may be different.\n",
    "# As we are doing scaling for full dataset, we are not bothered by different number of engines in training and test set.\n",
    "\n",
    "# Process trianing data\n",
    "for i in np.arange(1, num_train_machines + 1):\n",
    "    temp_train_data = train_data[train_data[0] == i].drop(columns = [0]).values\n",
    "    \n",
    "    # Verify if data of given window length can be extracted from training data\n",
    "    if (len(temp_train_data) < window_length):\n",
    "        print(\"Train engine {} doesn't have enough data for window_length of {}\".format(i, window_length))\n",
    "        raise AssertionError(\"Window length is larger than number of data points for some engines. \"\n",
    "                             \"Try decreasing window length.\")\n",
    "        \n",
    "    temp_train_targets = process_targets(data_length = temp_train_data.shape[0], early_rul = early_rul)\n",
    "    data_for_a_machine, targets_for_a_machine = process_input_data_with_targets(temp_train_data, temp_train_targets, \n",
    "                                                                                window_length = window_length, shift = shift)\n",
    "    \n",
    "    processed_train_data.append(data_for_a_machine)\n",
    "    processed_train_targets.append(targets_for_a_machine)\n",
    "\n",
    "processed_train_data = np.concatenate(processed_train_data)\n",
    "processed_train_targets = np.concatenate(processed_train_targets)\n",
    "\n",
    "# Process test data\n",
    "for i in np.arange(1, num_test_machines + 1):\n",
    "    temp_test_data = test_data[test_data[0] == i].drop(columns = [0]).values\n",
    "    \n",
    "    # Verify if data of given window length can be extracted from test data\n",
    "    if (len(temp_test_data) < window_length):\n",
    "        print(\"Test engine {} doesn't have enough data for window_length of {}\".format(i, window_length))\n",
    "        raise AssertionError(\"Window length is larger than number of data points for some engines. \"\n",
    "                             \"Try decreasing window length.\")\n",
    "    \n",
    "    # Prepare test data\n",
    "    test_data_for_an_engine, num_windows = process_test_data(temp_test_data, window_length = window_length, shift = shift,\n",
    "                                                             num_test_windows = num_test_windows)\n",
    "    \n",
    "    processed_test_data.append(test_data_for_an_engine)\n",
    "    num_test_windows_list.append(num_windows)\n",
    "\n",
    "processed_test_data = np.concatenate(processed_test_data)\n",
    "true_rul = true_rul[0].values\n",
    "\n",
    "# Shuffle training data\n",
    "index = np.random.permutation(len(processed_train_targets))\n",
    "processed_train_data, processed_train_targets = processed_train_data[index], processed_train_targets[index]\n",
    "\n",
    "print(\"Processed trianing data shape: \", processed_train_data.shape)\n",
    "print(\"Processed training ruls shape: \", processed_train_targets.shape)\n",
    "print(\"Processed test data shape: \", processed_test_data.shape)\n",
    "print(\"True RUL shape: \", true_rul.shape)\n",
    "\"\"\""
   ]
  },
  {
   "cell_type": "code",
   "execution_count": 14,
   "id": "8bda22b4",
   "metadata": {
    "execution": {
     "iopub.execute_input": "2022-07-10T14:48:22.723758Z",
     "iopub.status.busy": "2022-07-10T14:48:22.722863Z",
     "iopub.status.idle": "2022-07-10T14:48:22.729516Z",
     "shell.execute_reply": "2022-07-10T14:48:22.728373Z"
    },
    "papermill": {
     "duration": 0.023567,
     "end_time": "2022-07-10T14:48:22.732031",
     "exception": false,
     "start_time": "2022-07-10T14:48:22.708464",
     "status": "completed"
    },
    "tags": []
   },
   "outputs": [],
   "source": [
    "from sklearn.preprocessing import MinMaxScaler"
   ]
  },
  {
   "cell_type": "code",
   "execution_count": 15,
   "id": "14531ffe",
   "metadata": {
    "execution": {
     "iopub.execute_input": "2022-07-10T14:48:22.761292Z",
     "iopub.status.busy": "2022-07-10T14:48:22.760421Z",
     "iopub.status.idle": "2022-07-10T14:48:23.155865Z",
     "shell.execute_reply": "2022-07-10T14:48:23.154620Z"
    },
    "papermill": {
     "duration": 0.415432,
     "end_time": "2022-07-10T14:48:23.160655",
     "exception": false,
     "start_time": "2022-07-10T14:48:22.745223",
     "status": "completed"
    },
    "tags": []
   },
   "outputs": [
    {
     "name": "stderr",
     "output_type": "stream",
     "text": [
      "/opt/conda/lib/python3.7/site-packages/ipykernel_launcher.py:33: DeprecationWarning: `np.int` is a deprecated alias for the builtin `int`. To silence this warning, use `int` by itself. Doing this will not modify any behavior and is safe. When replacing `np.int`, you may wish to use e.g. `np.int64` or `np.int32` to specify the precision. If you wish to review your current use, check the release note link for additional information.\n",
      "Deprecated in NumPy 1.20; for more details and guidance: https://numpy.org/devdocs/release/1.20.0-notes.html#deprecations\n"
     ]
    },
    {
     "name": "stdout",
     "output_type": "stream",
     "text": [
      "Processed trianing data shape:  (17731, 30, 14)\n",
      "Processed training ruls shape:  (17731,)\n",
      "Processed test data shape:  (497, 30, 14)\n",
      "True RUL shape:  (100,)\n"
     ]
    },
    {
     "name": "stderr",
     "output_type": "stream",
     "text": [
      "/opt/conda/lib/python3.7/site-packages/ipykernel_launcher.py:58: DeprecationWarning: `np.int` is a deprecated alias for the builtin `int`. To silence this warning, use `int` by itself. Doing this will not modify any behavior and is safe. When replacing `np.int`, you may wish to use e.g. `np.int64` or `np.int32` to specify the precision. If you wish to review your current use, check the release note link for additional information.\n",
      "Deprecated in NumPy 1.20; for more details and guidance: https://numpy.org/devdocs/release/1.20.0-notes.html#deprecations\n"
     ]
    },
    {
     "data": {
      "text/plain": [
       "'train_data_first_column = train_data[\"id\"]\\ntest_data_first_column = test_data[\"id\"]\\n\\n# Scale data for all engines\\nscaler = StandardScaler()\\n#scaler = MinMaxScaler(feature_range = (-1,1))\\ntrain_data = scaler.fit_transform(train_data.drop(columns = columns_to_be_dropped))\\ntest_data = scaler.transform(test_data.drop(columns = columns_to_be_dropped))\\n\\ntrain_data = pd.DataFrame(data = np.c_[train_data_first_column, train_data])\\ntest_data = pd.DataFrame(data = np.c_[test_data_first_column, test_data])\\n\\nnum_train_machines = len(train_data[0].unique())\\nnum_test_machines = len(test_data[0].unique())\\n\\n# Process training and test data sepeartely as number of engines in training and test set may be different.\\n# As we are doing scaling for full dataset, we are not bothered by different number of engines in training and test set.\\n\\n# Process trianing data\\nfor i in np.arange(1, num_train_machines + 1):\\n    temp_train_data = train_data[train_data[0] == i].drop(columns = [0]).values\\n    \\n    # Verify if data of given window length can be extracted from training data\\n    if (len(temp_train_data) < window_length):\\n        print(\"Train engine {} doesn\\'t have enough data for window_length of {}\".format(i, window_length))\\n        raise AssertionError(\"Window length is larger than number of data points for some engines. \"\\n                             \"Try decreasing window length.\")\\n        \\n    temp_train_targets = process_targets(data_length = temp_train_data.shape[0], early_rul = early_rul)\\n    data_for_a_machine, targets_for_a_machine = process_input_data_with_targets(temp_train_data, temp_train_targets, \\n                                                                                window_length = window_length, shift = shift)\\n    \\n    processed_train_data.append(data_for_a_machine)\\n    processed_train_targets.append(targets_for_a_machine)\\n\\nprocessed_train_data = np.concatenate(processed_train_data)\\nprocessed_train_targets = np.concatenate(processed_train_targets)\\n\\n# Process test data\\nfor i in np.arange(1, num_test_machines + 1):\\n    temp_test_data = test_data[test_data[0] == i].drop(columns = [0]).values\\n    \\n    # Verify if data of given window length can be extracted from test data\\n    if (len(temp_test_data) < window_length):\\n        print(\"Test engine {} doesn\\'t have enough data for window_length of {}\".format(i, window_length))\\n        raise AssertionError(\"Window length is larger than number of data points for some engines. \"\\n                             \"Try decreasing window length.\")\\n    \\n    # Prepare test data\\n    test_data_for_an_engine, num_windows = process_test_data(temp_test_data, window_length = window_length, shift = shift,\\n                                                             num_test_windows = num_test_windows)\\n    \\n    processed_test_data.append(test_data_for_an_engine)\\n    num_test_windows_list.append(num_windows)\\n\\nprocessed_test_data = np.concatenate(processed_test_data)\\ntrue_rul = true_rul[0].values\\n\\n# Shuffle training data\\nindex = np.random.permutation(len(processed_train_targets))\\nprocessed_train_data, processed_train_targets = processed_train_data[index], processed_train_targets[index]\\n\\nprint(\"Processed trianing data shape: \", processed_train_data.shape)\\nprint(\"Processed training ruls shape: \", processed_train_targets.shape)\\nprint(\"Processed test data shape: \", processed_test_data.shape)\\n'"
      ]
     },
     "execution_count": 15,
     "metadata": {},
     "output_type": "execute_result"
    }
   ],
   "source": [
    "#test_data = pd.read_csv(\"/content/drive/MyDrive/test_FD001 (1).txt\", sep = \"\\s+\", header = None,names=columns)\n",
    "#true_rul = pd.read_csv(\"/content/drive/MyDrive/RUL_FD001.txt\", sep = '\\s+', header = None)\n",
    "\n",
    "\"\"\"window_length = 30\n",
    "shift = 1\n",
    "early_rul = 120   \n",
    "processed_train_data = []\n",
    "processed_train_targets = []\n",
    "\n",
    "# How many test windows to take for each engine. If set to 1 (this is the default), only last window of test data for \n",
    "# each engine is taken. If set to a different number, that many windows from last are taken. \n",
    "# Final output is the average output of all windows.\n",
    "num_test_windows =5   \n",
    "processed_test_data = []\n",
    "num_test_windows_list = []\n",
    "\"\"\"\n",
    "columns_to_be_dropped =['id','op1','op2','op3', 'sensor1', 'sensor5', 'sensor6','sensor7','sensor10',\n",
    "                 'sensor16', 'sensor18', 'sensor19']\n",
    "#[0,1,2,3,4,5,9,10,11,14,20,21,22,23,24,25]\n",
    "window_length = 30\n",
    "shift = 1\n",
    "early_rul = 125            \n",
    "processed_train_data = []\n",
    "processed_train_targets = []\n",
    "\n",
    "# How many test windows to take for each engine. If set to 1 (this is the default), only last window of test data for \n",
    "# each engine is taken. If set to a different number, that many windows from last are taken. \n",
    "# Final output is the average output of all windows.\n",
    "num_test_windows = 5     \n",
    "processed_test_data = []\n",
    "num_test_windows_list = []\n",
    "\n",
    "#columns_to_be_dropped = [0,1,2,3,4,5,9,10,14,20,22,23]\n",
    "\n",
    "train_data_first_column = train_data['id']\n",
    "test_data_first_column = test_data['id']\n",
    "\n",
    "# Scale data for all engines\n",
    "scaler = MinMaxScaler(feature_range = (-1,1))\n",
    "train_data = scaler.fit_transform(train_data.drop(columns = columns_to_be_dropped))\n",
    "test_data = scaler.transform(test_data.drop(columns = columns_to_be_dropped))\n",
    "\n",
    "train_data = pd.DataFrame(data = np.c_[train_data_first_column, train_data])\n",
    "test_data = pd.DataFrame(data = np.c_[test_data_first_column, test_data])\n",
    "\n",
    "num_train_machines = len(train_data[0].unique())\n",
    "num_test_machines = len(test_data[0].unique())\n",
    "\n",
    "# Process training and test data sepeartely as number of engines in training and test set may be different.\n",
    "# As we are doing scaling for full dataset, we are not bothered by different number of engines in training and test set.\n",
    "\n",
    "# Process trianing data\n",
    "for i in np.arange(1, num_train_machines + 1):\n",
    "    temp_train_data = train_data[train_data[0] == i].drop(columns = [0]).values\n",
    "    \n",
    "    # Verify if data of given window length can be extracted from training data\n",
    "    if (len(temp_train_data) < window_length):\n",
    "        print(\"Train engine {} doesn't have enough data for window_length of {}\".format(i, window_length))\n",
    "        raise AssertionError(\"Window length is larger than number of data points for some engines. \"\n",
    "                             \"Try decreasing window length.\")\n",
    "        \n",
    "    temp_train_targets = process_targets(data_length = temp_train_data.shape[0], early_rul = early_rul)\n",
    "    data_for_a_machine, targets_for_a_machine = process_input_data_with_targets(temp_train_data, temp_train_targets, \n",
    "                                                                                window_length = window_length, shift = shift)\n",
    "    \n",
    "    processed_train_data.append(data_for_a_machine)\n",
    "    processed_train_targets.append(targets_for_a_machine)\n",
    "\n",
    "processed_train_data = np.concatenate(processed_train_data)\n",
    "processed_train_targets = np.concatenate(processed_train_targets)\n",
    "\n",
    "# Process test data\n",
    "for i in np.arange(1, num_test_machines + 1):\n",
    "    temp_test_data = test_data[test_data[0] == i].drop(columns = [0]).values\n",
    "    \n",
    "    # Verify if data of given window length can be extracted from test data\n",
    "    if (len(temp_test_data) < window_length):\n",
    "        print(\"Test engine {} doesn't have enough data for window_length of {}\".format(i, window_length))\n",
    "        raise AssertionError(\"Window length is larger than number of data points for some engines. \"\n",
    "                             \"Try decreasing window length.\")\n",
    "    \n",
    "    # Prepare test data\n",
    "    test_data_for_an_engine, num_windows = process_test_data(temp_test_data, window_length = window_length, shift = shift,\n",
    "                                                             num_test_windows = num_test_windows)\n",
    "    \n",
    "    processed_test_data.append(test_data_for_an_engine)\n",
    "    num_test_windows_list.append(num_windows)\n",
    "\n",
    "processed_test_data = np.concatenate(processed_test_data)\n",
    "true_rul = true_rul[0].values\n",
    "\n",
    "# Shuffle training data\n",
    "index = np.random.permutation(len(processed_train_targets))\n",
    "processed_train_data, processed_train_targets = processed_train_data[index], processed_train_targets[index]\n",
    "\n",
    "print(\"Processed trianing data shape: \", processed_train_data.shape)\n",
    "print(\"Processed training ruls shape: \", processed_train_targets.shape)\n",
    "print(\"Processed test data shape: \", processed_test_data.shape)\n",
    "print(\"True RUL shape: \", true_rul.shape)\n",
    "\"\"\"train_data_first_column = train_data[\"id\"]\n",
    "test_data_first_column = test_data[\"id\"]\n",
    "\n",
    "# Scale data for all engines\n",
    "scaler = StandardScaler()\n",
    "#scaler = MinMaxScaler(feature_range = (-1,1))\n",
    "train_data = scaler.fit_transform(train_data.drop(columns = columns_to_be_dropped))\n",
    "test_data = scaler.transform(test_data.drop(columns = columns_to_be_dropped))\n",
    "\n",
    "train_data = pd.DataFrame(data = np.c_[train_data_first_column, train_data])\n",
    "test_data = pd.DataFrame(data = np.c_[test_data_first_column, test_data])\n",
    "\n",
    "num_train_machines = len(train_data[0].unique())\n",
    "num_test_machines = len(test_data[0].unique())\n",
    "\n",
    "# Process training and test data sepeartely as number of engines in training and test set may be different.\n",
    "# As we are doing scaling for full dataset, we are not bothered by different number of engines in training and test set.\n",
    "\n",
    "# Process trianing data\n",
    "for i in np.arange(1, num_train_machines + 1):\n",
    "    temp_train_data = train_data[train_data[0] == i].drop(columns = [0]).values\n",
    "    \n",
    "    # Verify if data of given window length can be extracted from training data\n",
    "    if (len(temp_train_data) < window_length):\n",
    "        print(\"Train engine {} doesn't have enough data for window_length of {}\".format(i, window_length))\n",
    "        raise AssertionError(\"Window length is larger than number of data points for some engines. \"\n",
    "                             \"Try decreasing window length.\")\n",
    "        \n",
    "    temp_train_targets = process_targets(data_length = temp_train_data.shape[0], early_rul = early_rul)\n",
    "    data_for_a_machine, targets_for_a_machine = process_input_data_with_targets(temp_train_data, temp_train_targets, \n",
    "                                                                                window_length = window_length, shift = shift)\n",
    "    \n",
    "    processed_train_data.append(data_for_a_machine)\n",
    "    processed_train_targets.append(targets_for_a_machine)\n",
    "\n",
    "processed_train_data = np.concatenate(processed_train_data)\n",
    "processed_train_targets = np.concatenate(processed_train_targets)\n",
    "\n",
    "# Process test data\n",
    "for i in np.arange(1, num_test_machines + 1):\n",
    "    temp_test_data = test_data[test_data[0] == i].drop(columns = [0]).values\n",
    "    \n",
    "    # Verify if data of given window length can be extracted from test data\n",
    "    if (len(temp_test_data) < window_length):\n",
    "        print(\"Test engine {} doesn't have enough data for window_length of {}\".format(i, window_length))\n",
    "        raise AssertionError(\"Window length is larger than number of data points for some engines. \"\n",
    "                             \"Try decreasing window length.\")\n",
    "    \n",
    "    # Prepare test data\n",
    "    test_data_for_an_engine, num_windows = process_test_data(temp_test_data, window_length = window_length, shift = shift,\n",
    "                                                             num_test_windows = num_test_windows)\n",
    "    \n",
    "    processed_test_data.append(test_data_for_an_engine)\n",
    "    num_test_windows_list.append(num_windows)\n",
    "\n",
    "processed_test_data = np.concatenate(processed_test_data)\n",
    "true_rul = true_rul[0].values\n",
    "\n",
    "# Shuffle training data\n",
    "index = np.random.permutation(len(processed_train_targets))\n",
    "processed_train_data, processed_train_targets = processed_train_data[index], processed_train_targets[index]\n",
    "\n",
    "print(\"Processed trianing data shape: \", processed_train_data.shape)\n",
    "print(\"Processed training ruls shape: \", processed_train_targets.shape)\n",
    "print(\"Processed test data shape: \", processed_test_data.shape)\n",
    "\"\"\"\n",
    "#print(\"True RUL shape: \", true_rul.shape)"
   ]
  },
  {
   "cell_type": "code",
   "execution_count": 16,
   "id": "ac07e040",
   "metadata": {
    "execution": {
     "iopub.execute_input": "2022-07-10T14:48:23.190457Z",
     "iopub.status.busy": "2022-07-10T14:48:23.189475Z",
     "iopub.status.idle": "2022-07-10T14:48:23.214130Z",
     "shell.execute_reply": "2022-07-10T14:48:23.212921Z"
    },
    "papermill": {
     "duration": 0.042112,
     "end_time": "2022-07-10T14:48:23.217217",
     "exception": false,
     "start_time": "2022-07-10T14:48:23.175105",
     "status": "completed"
    },
    "tags": []
   },
   "outputs": [
    {
     "name": "stdout",
     "output_type": "stream",
     "text": [
      "Processed train data shape:  (14184, 30, 14)\n",
      "Processed validation data shape:  (3547, 30, 14)\n",
      "Processed train targets shape:  (14184,)\n",
      "Processed validation targets shape:  (3547,)\n"
     ]
    }
   ],
   "source": [
    "processed_train_data, processed_val_data, processed_train_targets, processed_val_targets = train_test_split(processed_train_data,\n",
    "                                                                                                            processed_train_targets,\n",
    "                                                                                                            test_size = 0.2,\n",
    "                                                                                                            random_state = 83)\n",
    "print(\"Processed train data shape: \", processed_train_data.shape)\n",
    "print(\"Processed validation data shape: \", processed_val_data.shape)\n",
    "print(\"Processed train targets shape: \", processed_train_targets.shape)\n",
    "print(\"Processed validation targets shape: \", processed_val_targets.shape)"
   ]
  },
  {
   "cell_type": "markdown",
   "id": "cf8ba68b",
   "metadata": {
    "papermill": {
     "duration": 0.012755,
     "end_time": "2022-07-10T14:48:23.242937",
     "exception": false,
     "start_time": "2022-07-10T14:48:23.230182",
     "status": "completed"
    },
    "tags": []
   },
   "source": [
    "from keras.models import Sequential\n",
    "from keras.layers import Dense, Conv1D\n",
    "from keras.layers import Dropout, Input\n",
    "from keras import initializers\n",
    "from keras.layers import MaxPooling1D\n",
    "from keras.models import Model \n",
    "from keras.layers import TimeDistributed, Flatten\n",
    "from keras.layers.core import Dense, Activation, Dropout\n",
    "from keras.layers.recurrent import LSTM\n"
   ]
  },
  {
   "cell_type": "code",
   "execution_count": 17,
   "id": "0671cd40",
   "metadata": {
    "execution": {
     "iopub.execute_input": "2022-07-10T14:48:23.271023Z",
     "iopub.status.busy": "2022-07-10T14:48:23.270062Z",
     "iopub.status.idle": "2022-07-10T14:48:23.277427Z",
     "shell.execute_reply": "2022-07-10T14:48:23.276416Z"
    },
    "papermill": {
     "duration": 0.023614,
     "end_time": "2022-07-10T14:48:23.279621",
     "exception": false,
     "start_time": "2022-07-10T14:48:23.256007",
     "status": "completed"
    },
    "tags": []
   },
   "outputs": [],
   "source": [
    "from keras.models import Sequential\n",
    "from keras.layers import Dense, Conv1D\n",
    "from keras.layers import Dropout, Input\n",
    "from keras import initializers\n",
    "from keras.layers import MaxPooling1D\n",
    "from keras.models import Model \n",
    "from keras.layers import TimeDistributed, Flatten\n",
    "from keras.layers.core import Dense, Activation, Dropout\n",
    "from keras.layers.recurrent import LSTM\n"
   ]
  },
  {
   "cell_type": "code",
   "execution_count": 18,
   "id": "639a5454",
   "metadata": {
    "execution": {
     "iopub.execute_input": "2022-07-10T14:48:23.307299Z",
     "iopub.status.busy": "2022-07-10T14:48:23.306647Z",
     "iopub.status.idle": "2022-07-10T14:48:23.318169Z",
     "shell.execute_reply": "2022-07-10T14:48:23.317085Z"
    },
    "papermill": {
     "duration": 0.028382,
     "end_time": "2022-07-10T14:48:23.320705",
     "exception": false,
     "start_time": "2022-07-10T14:48:23.292323",
     "status": "completed"
    },
    "tags": []
   },
   "outputs": [],
   "source": [
    "def create_compiled_model(lr=0.001, drop_CNN=0, drop_dense=0.2, kernel_size=3):\n",
    "    model = Sequential()\n",
    "    intput_shape=(window_length, processed_train_data.shape[2])\n",
    "    model.add(Conv1D(128, kernel_size=kernel_size, padding = \"same\", activation=\"relu\", input_shape = intput_shape))\n",
    "    model.add(Dropout(drop_CNN))\n",
    "    model.add(MaxPooling1D(pool_size=2, padding='same'))\n",
    "    model.add(Conv1D(128,kernel_size=kernel_size, padding = \"same\", activation=\"relu\"))\n",
    "    model.add(Dropout(drop_CNN))\n",
    "    model.add(MaxPooling1D(pool_size=2, padding='same'))\n",
    "    model.add(TimeDistributed(Flatten()))\n",
    "    model.add(LSTM(units = 128, return_sequences=True))\n",
    "    model.add(LSTM(units = 128, return_sequences=False))\n",
    "    model.add(Dense(200, activation='relu'))\n",
    "    model.add(Dropout(drop_dense))\n",
    "    model.add(Dense(1, activation = 'linear'))\n",
    "    opt = tf.keras.optimizers.Adam(learning_rate=lr)\n",
    "    model.compile(optimizer=opt, loss='mse')\n",
    "\n",
    "    return model"
   ]
  },
  {
   "cell_type": "code",
   "execution_count": 19,
   "id": "091ac468",
   "metadata": {
    "execution": {
     "iopub.execute_input": "2022-07-10T14:48:23.349236Z",
     "iopub.status.busy": "2022-07-10T14:48:23.348886Z",
     "iopub.status.idle": "2022-07-10T14:52:53.823102Z",
     "shell.execute_reply": "2022-07-10T14:52:53.820993Z"
    },
    "papermill": {
     "duration": 270.491981,
     "end_time": "2022-07-10T14:52:53.826129",
     "exception": false,
     "start_time": "2022-07-10T14:48:23.334148",
     "status": "completed"
    },
    "tags": []
   },
   "outputs": [
    {
     "name": "stderr",
     "output_type": "stream",
     "text": [
      "2022-07-10 14:48:23.444317: I tensorflow/stream_executor/cuda/cuda_gpu_executor.cc:937] successful NUMA node read from SysFS had negative value (-1), but there must be at least one NUMA node, so returning NUMA node zero\n",
      "2022-07-10 14:48:23.562210: I tensorflow/stream_executor/cuda/cuda_gpu_executor.cc:937] successful NUMA node read from SysFS had negative value (-1), but there must be at least one NUMA node, so returning NUMA node zero\n",
      "2022-07-10 14:48:23.563189: I tensorflow/stream_executor/cuda/cuda_gpu_executor.cc:937] successful NUMA node read from SysFS had negative value (-1), but there must be at least one NUMA node, so returning NUMA node zero\n",
      "2022-07-10 14:48:23.565013: I tensorflow/core/platform/cpu_feature_guard.cc:142] This TensorFlow binary is optimized with oneAPI Deep Neural Network Library (oneDNN) to use the following CPU instructions in performance-critical operations:  AVX2 AVX512F FMA\n",
      "To enable them in other operations, rebuild TensorFlow with the appropriate compiler flags.\n",
      "2022-07-10 14:48:23.565366: I tensorflow/stream_executor/cuda/cuda_gpu_executor.cc:937] successful NUMA node read from SysFS had negative value (-1), but there must be at least one NUMA node, so returning NUMA node zero\n",
      "2022-07-10 14:48:23.566165: I tensorflow/stream_executor/cuda/cuda_gpu_executor.cc:937] successful NUMA node read from SysFS had negative value (-1), but there must be at least one NUMA node, so returning NUMA node zero\n",
      "2022-07-10 14:48:23.566856: I tensorflow/stream_executor/cuda/cuda_gpu_executor.cc:937] successful NUMA node read from SysFS had negative value (-1), but there must be at least one NUMA node, so returning NUMA node zero\n",
      "2022-07-10 14:48:26.331773: I tensorflow/stream_executor/cuda/cuda_gpu_executor.cc:937] successful NUMA node read from SysFS had negative value (-1), but there must be at least one NUMA node, so returning NUMA node zero\n",
      "2022-07-10 14:48:26.332751: I tensorflow/stream_executor/cuda/cuda_gpu_executor.cc:937] successful NUMA node read from SysFS had negative value (-1), but there must be at least one NUMA node, so returning NUMA node zero\n",
      "2022-07-10 14:48:26.333580: I tensorflow/stream_executor/cuda/cuda_gpu_executor.cc:937] successful NUMA node read from SysFS had negative value (-1), but there must be at least one NUMA node, so returning NUMA node zero\n",
      "2022-07-10 14:48:26.334250: I tensorflow/core/common_runtime/gpu/gpu_device.cc:1510] Created device /job:localhost/replica:0/task:0/device:GPU:0 with 15403 MB memory:  -> device: 0, name: Tesla P100-PCIE-16GB, pci bus id: 0000:00:04.0, compute capability: 6.0\n",
      "2022-07-10 14:48:27.171851: I tensorflow/compiler/mlir/mlir_graph_optimization_pass.cc:185] None of the MLIR Optimization Passes are enabled (registered 2)\n"
     ]
    },
    {
     "name": "stdout",
     "output_type": "stream",
     "text": [
      "Epoch 1/10\n",
      "\n",
      "Epoch 00001: LearningRateScheduler setting learning rate to 0.001.\n"
     ]
    },
    {
     "name": "stderr",
     "output_type": "stream",
     "text": [
      "2022-07-10 14:48:33.086851: I tensorflow/stream_executor/cuda/cuda_dnn.cc:369] Loaded cuDNN version 8005\n"
     ]
    },
    {
     "name": "stdout",
     "output_type": "stream",
     "text": [
      "222/222 - 35s - loss: 2385.4382 - val_loss: 1761.1082\n",
      "Epoch 2/10\n",
      "\n",
      "Epoch 00002: LearningRateScheduler setting learning rate to 0.001.\n",
      "222/222 - 22s - loss: 1246.5609 - val_loss: 353.2718\n",
      "Epoch 3/10\n",
      "\n",
      "Epoch 00003: LearningRateScheduler setting learning rate to 0.001.\n",
      "222/222 - 21s - loss: 343.2736 - val_loss: 277.4808\n",
      "Epoch 4/10\n",
      "\n",
      "Epoch 00004: LearningRateScheduler setting learning rate to 0.001.\n",
      "222/222 - 22s - loss: 271.1985 - val_loss: 199.0535\n",
      "Epoch 5/10\n",
      "\n",
      "Epoch 00005: LearningRateScheduler setting learning rate to 0.001.\n",
      "222/222 - 22s - loss: 215.0372 - val_loss: 193.7209\n",
      "Epoch 6/10\n",
      "\n",
      "Epoch 00006: LearningRateScheduler setting learning rate to 0.0001.\n",
      "222/222 - 22s - loss: 164.5354 - val_loss: 135.3836\n",
      "Epoch 7/10\n",
      "\n",
      "Epoch 00007: LearningRateScheduler setting learning rate to 0.0001.\n",
      "222/222 - 22s - loss: 156.4277 - val_loss: 128.2296\n",
      "Epoch 8/10\n",
      "\n",
      "Epoch 00008: LearningRateScheduler setting learning rate to 0.0001.\n",
      "222/222 - 23s - loss: 149.9233 - val_loss: 126.5866\n",
      "Epoch 9/10\n",
      "\n",
      "Epoch 00009: LearningRateScheduler setting learning rate to 0.0001.\n",
      "222/222 - 22s - loss: 144.6728 - val_loss: 120.3398\n",
      "Epoch 10/10\n",
      "\n",
      "Epoch 00010: LearningRateScheduler setting learning rate to 0.0001.\n",
      "222/222 - 23s - loss: 142.3666 - val_loss: 118.5693\n"
     ]
    }
   ],
   "source": [
    "def scheduler(epoch):\n",
    "    if epoch < 5:\n",
    "        return 0.001\n",
    "    else:\n",
    "        return 0.0001\n",
    "callback = tf.keras.callbacks.LearningRateScheduler(scheduler, verbose = 1)\n",
    "model = create_compiled_model()\n",
    "history = model.fit(processed_train_data, processed_train_targets, epochs = 10,\n",
    "                    validation_data = (processed_val_data, processed_val_targets),\n",
    "                    callbacks = callback,\n",
    "                    batch_size = 64, verbose = 2)"
   ]
  },
  {
   "cell_type": "code",
   "execution_count": 20,
   "id": "1a94a5be",
   "metadata": {
    "execution": {
     "iopub.execute_input": "2022-07-10T14:52:53.860142Z",
     "iopub.status.busy": "2022-07-10T14:52:53.859746Z",
     "iopub.status.idle": "2022-07-10T14:52:53.871953Z",
     "shell.execute_reply": "2022-07-10T14:52:53.870801Z"
    },
    "papermill": {
     "duration": 0.032157,
     "end_time": "2022-07-10T14:52:53.874600",
     "exception": false,
     "start_time": "2022-07-10T14:52:53.842443",
     "status": "completed"
    },
    "tags": []
   },
   "outputs": [
    {
     "name": "stdout",
     "output_type": "stream",
     "text": [
      "Model: \"sequential\"\n",
      "_________________________________________________________________\n",
      "Layer (type)                 Output Shape              Param #   \n",
      "=================================================================\n",
      "conv1d (Conv1D)              (None, 30, 128)           5504      \n",
      "_________________________________________________________________\n",
      "dropout (Dropout)            (None, 30, 128)           0         \n",
      "_________________________________________________________________\n",
      "max_pooling1d (MaxPooling1D) (None, 15, 128)           0         \n",
      "_________________________________________________________________\n",
      "conv1d_1 (Conv1D)            (None, 15, 128)           49280     \n",
      "_________________________________________________________________\n",
      "dropout_1 (Dropout)          (None, 15, 128)           0         \n",
      "_________________________________________________________________\n",
      "max_pooling1d_1 (MaxPooling1 (None, 8, 128)            0         \n",
      "_________________________________________________________________\n",
      "time_distributed (TimeDistri (None, 8, 128)            0         \n",
      "_________________________________________________________________\n",
      "lstm (LSTM)                  (None, 8, 128)            131584    \n",
      "_________________________________________________________________\n",
      "lstm_1 (LSTM)                (None, 128)               131584    \n",
      "_________________________________________________________________\n",
      "dense (Dense)                (None, 200)               25800     \n",
      "_________________________________________________________________\n",
      "dropout_2 (Dropout)          (None, 200)               0         \n",
      "_________________________________________________________________\n",
      "dense_1 (Dense)              (None, 1)                 201       \n",
      "=================================================================\n",
      "Total params: 343,953\n",
      "Trainable params: 343,953\n",
      "Non-trainable params: 0\n",
      "_________________________________________________________________\n",
      "None\n"
     ]
    }
   ],
   "source": [
    "print(model.summary())"
   ]
  },
  {
   "cell_type": "code",
   "execution_count": null,
   "id": "95ddc9da",
   "metadata": {
    "papermill": {
     "duration": 0.016286,
     "end_time": "2022-07-10T14:52:53.906975",
     "exception": false,
     "start_time": "2022-07-10T14:52:53.890689",
     "status": "completed"
    },
    "tags": []
   },
   "outputs": [],
   "source": []
  },
  {
   "cell_type": "code",
   "execution_count": 21,
   "id": "b22ef456",
   "metadata": {
    "execution": {
     "iopub.execute_input": "2022-07-10T14:52:53.941158Z",
     "iopub.status.busy": "2022-07-10T14:52:53.940507Z",
     "iopub.status.idle": "2022-07-10T14:52:54.587967Z",
     "shell.execute_reply": "2022-07-10T14:52:54.586077Z"
    },
    "papermill": {
     "duration": 0.66762,
     "end_time": "2022-07-10T14:52:54.590782",
     "exception": false,
     "start_time": "2022-07-10T14:52:53.923162",
     "status": "completed"
    },
    "tags": []
   },
   "outputs": [
    {
     "name": "stdout",
     "output_type": "stream",
     "text": [
      "RMSE:  13.933064578077536\n"
     ]
    }
   ],
   "source": [
    "rul_pred = model.predict(processed_test_data).reshape(-1)\n",
    "preds_for_each_engine = np.split(rul_pred, np.cumsum(num_test_windows_list)[:-1])\n",
    "mean_pred_for_each_engine = [np.average(ruls_for_each_engine, weights = np.repeat(1/num_windows, num_windows)) \n",
    "                             for ruls_for_each_engine, num_windows in zip(preds_for_each_engine, num_test_windows_list)]\n",
    "RMSE = np.sqrt(mean_squared_error(true_rul, mean_pred_for_each_engine))\n",
    "print(\"RMSE: \", RMSE)"
   ]
  },
  {
   "cell_type": "code",
   "execution_count": 22,
   "id": "fd3e7f8d",
   "metadata": {
    "execution": {
     "iopub.execute_input": "2022-07-10T14:52:54.626270Z",
     "iopub.status.busy": "2022-07-10T14:52:54.625215Z",
     "iopub.status.idle": "2022-07-10T14:52:54.693511Z",
     "shell.execute_reply": "2022-07-10T14:52:54.691621Z"
    },
    "papermill": {
     "duration": 0.088663,
     "end_time": "2022-07-10T14:52:54.696326",
     "exception": false,
     "start_time": "2022-07-10T14:52:54.607663",
     "status": "completed"
    },
    "tags": []
   },
   "outputs": [
    {
     "name": "stdout",
     "output_type": "stream",
     "text": [
      "RMSE (Taking only last examples):  14.090943109915452\n"
     ]
    }
   ],
   "source": [
    "tf.keras.models.save_model(model, \"FD001_LSTM_piecewise_RMSE_\"+ str(np.round(RMSE, 4)) + \".h5\")\n",
    "#We will now compute the RMSE by taking only last example of each engine.\n",
    "\n",
    "indices_of_last_examples = np.cumsum(num_test_windows_list) - 1\n",
    "preds_for_last_example = np.concatenate(preds_for_each_engine)[indices_of_last_examples]\n",
    "\n",
    "RMSE_new = np.sqrt(mean_squared_error(true_rul, preds_for_last_example))\n",
    "print(\"RMSE (Taking only last examples): \", RMSE_new)"
   ]
  },
  {
   "cell_type": "code",
   "execution_count": 23,
   "id": "5f52994c",
   "metadata": {
    "execution": {
     "iopub.execute_input": "2022-07-10T14:52:54.732201Z",
     "iopub.status.busy": "2022-07-10T14:52:54.731158Z",
     "iopub.status.idle": "2022-07-10T14:52:54.740700Z",
     "shell.execute_reply": "2022-07-10T14:52:54.739261Z"
    },
    "papermill": {
     "duration": 0.030966,
     "end_time": "2022-07-10T14:52:54.744077",
     "exception": false,
     "start_time": "2022-07-10T14:52:54.713111",
     "status": "completed"
    },
    "tags": []
   },
   "outputs": [
    {
     "name": "stdout",
     "output_type": "stream",
     "text": [
      "S-score:  343.5545845918923\n"
     ]
    }
   ],
   "source": [
    "def compute_s_score(rul_true, rul_pred):\n",
    "    \"\"\"\n",
    "    Both rul_true and rul_pred should be 1D numpy arrays.\n",
    "    \"\"\"\n",
    "    diff = rul_pred - rul_true\n",
    "    return np.sum(np.where(diff < 0, np.exp(-diff/13)-1, np.exp(diff/10)-1))\n",
    "s_score = compute_s_score(true_rul, preds_for_last_example)\n",
    "print(\"S-score: \", s_score)"
   ]
  },
  {
   "cell_type": "code",
   "execution_count": 24,
   "id": "f7ff2914",
   "metadata": {
    "execution": {
     "iopub.execute_input": "2022-07-10T14:52:54.780411Z",
     "iopub.status.busy": "2022-07-10T14:52:54.779230Z",
     "iopub.status.idle": "2022-07-10T14:52:55.024876Z",
     "shell.execute_reply": "2022-07-10T14:52:55.023688Z"
    },
    "papermill": {
     "duration": 0.266892,
     "end_time": "2022-07-10T14:52:55.028338",
     "exception": false,
     "start_time": "2022-07-10T14:52:54.761446",
     "status": "completed"
    },
    "tags": []
   },
   "outputs": [
    {
     "data": {
      "image/png": "[encoded data removed]",
      "text/plain": [
       "<Figure size 432x288 with 1 Axes>"
      ]
     },
     "metadata": {},
     "output_type": "display_data"
    }
   ],
   "source": [
    "# Plot true and predicted RUL values\n",
    "plt.plot(true_rul, label = \"True RUL\", color = \"red\")\n",
    "plt.plot(preds_for_last_example, label = \"Pred RUL\", color = \"blue\")\n",
    "plt.legend()\n",
    "plt.show()"
   ]
  },
  {
   "cell_type": "code",
   "execution_count": 25,
   "id": "78c6b3a2",
   "metadata": {
    "execution": {
     "iopub.execute_input": "2022-07-10T14:52:55.067704Z",
     "iopub.status.busy": "2022-07-10T14:52:55.066913Z",
     "iopub.status.idle": "2022-07-10T14:52:55.075796Z",
     "shell.execute_reply": "2022-07-10T14:52:55.074612Z"
    },
    "papermill": {
     "duration": 0.030224,
     "end_time": "2022-07-10T14:52:55.078322",
     "exception": false,
     "start_time": "2022-07-10T14:52:55.048098",
     "status": "completed"
    },
    "tags": []
   },
   "outputs": [
    {
     "data": {
      "text/plain": [
       "array([121.528656 , 121.11162  ,  39.878338 ,  73.935555 ,  93.4436   ,\n",
       "        84.74459  , 112.008575 ,  94.34186  , 119.76663  ,  97.23527  ,\n",
       "        70.68718  , 110.96506  ,  87.78083  , 115.025894 ,  88.07367  ,\n",
       "        96.13368  ,  48.166294 ,  24.422674 ,  76.74485  ,  15.738091 ,\n",
       "        76.13894  , 122.06777  , 115.34079  ,  21.091782 , 119.44517  ,\n",
       "       108.34416  ,  95.04013  , 119.99285  , 106.93677  , 107.91041  ,\n",
       "         9.157799 ,  42.04207  , 120.5131   ,   4.1176815,  11.025371 ,\n",
       "        15.921778 ,  26.28113  ,  46.594936 , 123.37753  ,  29.137384 ,\n",
       "        19.796873 ,  11.465886 ,  65.75624  , 107.96855  ,  65.110374 ,\n",
       "        35.22727  , 116.57713  ,  94.20925  ,  24.361963 ,  81.89804  ,\n",
       "       115.037346 ,  30.068956 ,  29.736654 , 118.27122  , 118.165855 ,\n",
       "        13.625189 , 106.92454  ,  49.44401  , 104.964325 , 108.13028  ,\n",
       "        20.447716 ,  48.23519  ,  86.12814  ,  26.872221 , 122.52412  ,\n",
       "        17.6009   , 121.70475  ,   8.073022 , 122.42901  ,  79.33781  ,\n",
       "       108.35221  ,  63.354034 , 103.9192   , 109.72837  ,  95.755226 ,\n",
       "         7.163325 ,  31.777046 , 125.831856 ,  72.84292  ,  94.34712  ,\n",
       "         8.316372 ,   8.595125 , 121.56853  ,  85.921455 , 123.57999  ,\n",
       "       114.74922  , 118.85408  , 112.50169  , 121.35986  ,  21.019417 ,\n",
       "        26.773449 ,  22.413649 ,  56.444984 ,  76.89041  , 112.98613  ,\n",
       "       115.21204  ,  78.740616 ,  51.938034 , 121.21858  ,  19.677446 ],\n",
       "      dtype=float32)"
      ]
     },
     "execution_count": 25,
     "metadata": {},
     "output_type": "execute_result"
    }
   ],
   "source": [
    "preds_for_last_example "
   ]
  },
  {
   "cell_type": "code",
   "execution_count": null,
   "id": "4c53ec20",
   "metadata": {
    "papermill": {
     "duration": 0.017116,
     "end_time": "2022-07-10T14:52:55.113291",
     "exception": false,
     "start_time": "2022-07-10T14:52:55.096175",
     "status": "completed"
    },
    "tags": []
   },
   "outputs": [],
   "source": []
  },
  {
   "cell_type": "code",
   "execution_count": 26,
   "id": "08db1089",
   "metadata": {
    "execution": {
     "iopub.execute_input": "2022-07-10T14:52:55.150036Z",
     "iopub.status.busy": "2022-07-10T14:52:55.149647Z",
     "iopub.status.idle": "2022-07-10T14:52:55.158639Z",
     "shell.execute_reply": "2022-07-10T14:52:55.157434Z"
    },
    "papermill": {
     "duration": 0.030478,
     "end_time": "2022-07-10T14:52:55.161110",
     "exception": false,
     "start_time": "2022-07-10T14:52:55.130632",
     "status": "completed"
    },
    "tags": []
   },
   "outputs": [
    {
     "data": {
      "text/plain": [
       "array([121.528656 , 121.11162  ,  39.878338 ,  73.935555 ,  93.4436   ,\n",
       "        84.74459  , 112.008575 ,  94.34186  , 119.76663  ,  97.23527  ,\n",
       "        70.68718  , 110.96506  ,  87.78083  , 115.025894 ,  88.07367  ,\n",
       "        96.13368  ,  48.166294 ,  24.422674 ,  76.74485  ,  15.738091 ,\n",
       "        76.13894  , 122.06777  , 115.34079  ,  21.091782 , 119.44517  ,\n",
       "       108.34416  ,  95.04013  , 119.99285  , 106.93677  , 107.91041  ,\n",
       "         9.157799 ,  42.04207  , 120.5131   ,   4.1176815,  11.025371 ,\n",
       "        15.921778 ,  26.28113  ,  46.594936 , 123.37753  ,  29.137384 ,\n",
       "        19.796873 ,  11.465886 ,  65.75624  , 107.96855  ,  65.110374 ,\n",
       "        35.22727  , 116.57713  ,  94.20925  ,  24.361963 ,  81.89804  ,\n",
       "       115.037346 ,  30.068956 ,  29.736654 , 118.27122  , 118.165855 ,\n",
       "        13.625189 , 106.92454  ,  49.44401  , 104.964325 , 108.13028  ,\n",
       "        20.447716 ,  48.23519  ,  86.12814  ,  26.872221 , 122.52412  ,\n",
       "        17.6009   , 121.70475  ,   8.073022 , 122.42901  ,  79.33781  ,\n",
       "       108.35221  ,  63.354034 , 103.9192   , 109.72837  ,  95.755226 ,\n",
       "         7.163325 ,  31.777046 , 125.831856 ,  72.84292  ,  94.34712  ,\n",
       "         8.316372 ,   8.595125 , 121.56853  ,  85.921455 , 123.57999  ,\n",
       "       114.74922  , 118.85408  , 112.50169  , 121.35986  ,  21.019417 ,\n",
       "        26.773449 ,  22.413649 ,  56.444984 ,  76.89041  , 112.98613  ,\n",
       "       115.21204  ,  78.740616 ,  51.938034 , 121.21858  ,  19.677446 ],\n",
       "      dtype=float32)"
      ]
     },
     "execution_count": 26,
     "metadata": {},
     "output_type": "execute_result"
    }
   ],
   "source": [
    "preds_for_last_example "
   ]
  }
 ],
 "metadata": {
  "kernelspec": {
   "display_name": "Python 3",
   "language": "python",
   "name": "python3"
  },
  "language_info": {
   "codemirror_mode": {
    "name": "ipython",
    "version": 3
   },
   "file_extension": ".py",
   "mimetype": "text/x-python",
   "name": "python",
   "nbconvert_exporter": "python",
   "pygments_lexer": "ipython3",
   "version": "3.7.12"
  },
  "papermill": {
   "default_parameters": {},
   "duration": 296.791013,
   "end_time": "2022-07-10T14:52:58.508651",
   "environment_variables": {},
   "exception": null,
   "input_path": "__notebook__.ipynb",
   "output_path": "__notebook__.ipynb",
   "parameters": {},
   "start_time": "2022-07-10T14:48:01.717638",
   "version": "2.3.4"
  }
 },
 "nbformat": 4,
 "nbformat_minor": 5
}
