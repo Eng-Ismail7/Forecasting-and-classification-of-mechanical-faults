{
  "nbformat": 4,
  "nbformat_minor": 0,
  "metadata": {
    "colab": {
      "name": "Copy of CNN Model.CWRU.data.ipynb",
      "provenance": [],
      "collapsed_sections": []
    },
    "kernelspec": {
      "name": "python3",
      "display_name": "Python 3"
    },
    "language_info": {
      "name": "python"
    }
  },
  "cells": [
    {
      "cell_type": "code",
      "source": [
        "import tensorflow as tf\n",
        "import numpy as np\n",
        "from tensorflow.keras.models import Sequential\n",
        "from tensorflow.keras import layers\n",
        "from tensorflow.keras.utils import to_categorical\n",
        "import matplotlib.pyplot as plt\n",
        "import seaborn as sns\n",
        "import pandas as pd\n",
        "import sklearn\n",
        "from sklearn.model_selection import train_test_split"
      ],
      "metadata": {
        "id": "zB0UAgYD-pfE"
      },
      "execution_count": null,
      "outputs": []
    },
    {
      "cell_type": "code",
      "source": [
        "print(\"Tensorflow version: \", tf.__version__)\n",
        "print(\"Numpy version: \", np.__version__)\n",
        "print(\"Pandas version: \", pd.__version__)\n",
        "print(\"Scikit-learn version: \", sklearn.__version__)"
      ],
      "metadata": {
        "colab": {
          "base_uri": "https://localhost:8080/"
        },
        "id": "40Kqvbfd_nNr",
        "outputId": "75258b15-0d02-49c1-e060-d2ce2aa92e2a"
      },
      "execution_count": null,
      "outputs": [
        {
          "output_type": "stream",
          "name": "stdout",
          "text": [
            "Tensorflow version:  2.8.0\n",
            "Numpy version:  1.21.5\n",
            "Pandas version:  1.3.5\n",
            "Scikit-learn version:  1.0.2\n"
          ]
        }
      ]
    },
    {
      "cell_type": "code",
      "source": [
        "file = np.load('/content/drive/MyDrive/CWRU.zip') # Give path to downloaded file in your system\n",
        "print(file.files)"
      ],
      "metadata": {
        "colab": {
          "base_uri": "https://localhost:8080/"
        },
        "id": "p31QxJD2_4WV",
        "outputId": "233514d7-9b79-4b8b-998b-d151cc355485"
      },
      "execution_count": null,
      "outputs": [
        {
          "output_type": "stream",
          "name": "stdout",
          "text": [
            "['CWRU files/', 'CWRU files/featurized_data', 'CWRU files/featurized_data_labels', 'CWRU files/signal_data', 'CWRU files/signal_data_labels']\n"
          ]
        }
      ]
    },
    {
      "cell_type": "code",
      "source": [
        "data = file[\"CWRU files/signal_data\"]\n",
        "labels = file[\"CWRU files/signal_data_labels\"]\n",
        "print(data.shape, labels.shape)\n",
        "plt.plot(labels)"
      ],
      "metadata": {
        "colab": {
          "base_uri": "https://localhost:8080/",
          "height": 299
        },
        "id": "Hv-5ksmEGrsq",
        "outputId": "178744ec-9ca5-4ca9-d317-dd01aabcbcca"
      },
      "execution_count": null,
      "outputs": [
        {
          "output_type": "stream",
          "name": "stdout",
          "text": [
            "(2800, 1600) (2800,)\n"
          ]
        },
        {
          "output_type": "execute_result",
          "data": {
            "text/plain": [
              "[<matplotlib.lines.Line2D at 0x7f9b59f61210>]"
            ]
          },
          "metadata": {},
          "execution_count": 7
        },
        {
          "output_type": "display_data",
          "data": {
            "text/plain": [
              "<Figure size 432x288 with 1 Axes>"
            ],
            "image/png": "[encoded data removed]"
          },
          "metadata": {
            "needs_background": "light"
          }
        }
      ]
    },
    {
      "cell_type": "code",
      "source": [
        "from matplotlib.image import pil_to_array\n",
        "data =data.reshape(-1,40,40)\n",
        "print(data.shape)\n",
        "pil_to_array(\"data\")\n"
      ],
      "metadata": {
        "colab": {
          "base_uri": "https://localhost:8080/",
          "height": 1000
        },
        "id": "HZd2HeIubB0S",
        "outputId": "5deffa6e-b7ec-4aca-fd1a-7466669e9740"
      },
      "execution_count": null,
      "outputs": [
        {
          "output_type": "stream",
          "name": "stdout",
          "text": [
            "(2800, 40, 40)\n"
          ]
        },
        {
          "output_type": "error",
          "ename": "AttributeError",
          "evalue": "ignored",
          "traceback": [
            "\u001b[0;31m---------------------------------------------------------------------------\u001b[0m",
            "\u001b[0;31mAttributeError\u001b[0m                            Traceback (most recent call last)",
            "\u001b[0;32m<ipython-input-19-a026a271c4ac>\u001b[0m in \u001b[0;36m<module>\u001b[0;34m()\u001b[0m\n\u001b[1;32m      2\u001b[0m \u001b[0mdata\u001b[0m \u001b[0;34m=\u001b[0m\u001b[0mdata\u001b[0m\u001b[0;34m.\u001b[0m\u001b[0mreshape\u001b[0m\u001b[0;34m(\u001b[0m\u001b[0;34m-\u001b[0m\u001b[0;36m1\u001b[0m\u001b[0;34m,\u001b[0m\u001b[0;36m40\u001b[0m\u001b[0;34m,\u001b[0m\u001b[0;36m40\u001b[0m\u001b[0;34m)\u001b[0m\u001b[0;34m\u001b[0m\u001b[0;34m\u001b[0m\u001b[0m\n\u001b[1;32m      3\u001b[0m \u001b[0mprint\u001b[0m\u001b[0;34m(\u001b[0m\u001b[0mdata\u001b[0m\u001b[0;34m.\u001b[0m\u001b[0mshape\u001b[0m\u001b[0;34m)\u001b[0m\u001b[0;34m\u001b[0m\u001b[0;34m\u001b[0m\u001b[0m\n\u001b[0;32m----> 4\u001b[0;31m \u001b[0mpil_to_array\u001b[0m\u001b[0;34m(\u001b[0m\u001b[0;34m\"data\"\u001b[0m\u001b[0;34m)\u001b[0m\u001b[0;34m\u001b[0m\u001b[0;34m\u001b[0m\u001b[0m\n\u001b[0m",
            "\u001b[0;32m/usr/local/lib/python3.7/dist-packages/matplotlib/image.py\u001b[0m in \u001b[0;36mpil_to_array\u001b[0;34m(pilImage)\u001b[0m\n\u001b[1;32m   1605\u001b[0m \u001b[0;34m\u001b[0m\u001b[0m\n\u001b[1;32m   1606\u001b[0m     \"\"\"\n\u001b[0;32m-> 1607\u001b[0;31m     \u001b[0;32mif\u001b[0m \u001b[0mpilImage\u001b[0m\u001b[0;34m.\u001b[0m\u001b[0mmode\u001b[0m \u001b[0;32min\u001b[0m \u001b[0;34m[\u001b[0m\u001b[0;34m'RGBA'\u001b[0m\u001b[0;34m,\u001b[0m \u001b[0;34m'RGBX'\u001b[0m\u001b[0;34m,\u001b[0m \u001b[0;34m'RGB'\u001b[0m\u001b[0;34m,\u001b[0m \u001b[0;34m'L'\u001b[0m\u001b[0;34m]\u001b[0m\u001b[0;34m:\u001b[0m\u001b[0;34m\u001b[0m\u001b[0;34m\u001b[0m\u001b[0m\n\u001b[0m\u001b[1;32m   1608\u001b[0m         \u001b[0;31m# return MxNx4 RGBA, MxNx3 RBA, or MxN luminance array\u001b[0m\u001b[0;34m\u001b[0m\u001b[0;34m\u001b[0m\u001b[0;34m\u001b[0m\u001b[0m\n\u001b[1;32m   1609\u001b[0m         \u001b[0;32mreturn\u001b[0m \u001b[0mnp\u001b[0m\u001b[0;34m.\u001b[0m\u001b[0masarray\u001b[0m\u001b[0;34m(\u001b[0m\u001b[0mpilImage\u001b[0m\u001b[0;34m)\u001b[0m\u001b[0;34m\u001b[0m\u001b[0;34m\u001b[0m\u001b[0m\n",
            "\u001b[0;31mAttributeError\u001b[0m: 'str' object has no attribute 'mode'"
          ]
        }
      ]
    },
    {
      "cell_type": "code",
      "source": [
        "print(data[0])\n",
        "print(labels)"
      ],
      "metadata": {
        "colab": {
          "base_uri": "https://localhost:8080/"
        },
        "id": "-vgZh_WIGxsb",
        "outputId": "115fac4b-b0cb-4612-88b6-a858918c99ce"
      },
      "execution_count": null,
      "outputs": [
        {
          "output_type": "stream",
          "name": "stdout",
          "text": [
            "[[ 0.07635323  0.01731508 -0.01126523 ... -0.03901108  0.00208615\n",
            "   0.062376  ]\n",
            " [ 0.08386338  0.048816   -0.00250338 ... -0.01877538 -0.00646708\n",
            "   0.010848  ]\n",
            " [-0.00375508 -0.04568677 -0.06341908 ... -0.12183138 -0.06154154\n",
            "   0.021696  ]\n",
            " ...\n",
            " [-0.05549169 -0.06592246 -0.01522892 ... -0.08136    -0.03629908\n",
            "  -0.02211323]\n",
            " [-0.03775938 -0.04693846 -0.02774585 ...  0.06800862  0.08887015\n",
            "   0.05006769]\n",
            " [-0.00396369 -0.01648062  0.01460308 ...  0.          0.03337846\n",
            "   0.035256  ]]\n",
            "[0. 0. 0. ... 9. 9. 9.]\n"
          ]
        }
      ]
    },
    {
      "cell_type": "code",
      "source": [
        "category_labels = np.unique(labels)\n",
        "print(category_labels)"
      ],
      "metadata": {
        "colab": {
          "base_uri": "https://localhost:8080/"
        },
        "id": "DCQ8N0OhG71h",
        "outputId": "5e58de56-e9ab-4ba1-b629-a672c6b99ea7"
      },
      "execution_count": null,
      "outputs": [
        {
          "output_type": "stream",
          "name": "stdout",
          "text": [
            "[0. 1. 2. 3. 4. 5. 6. 7. 8. 9.]\n"
          ]
        }
      ]
    },
    {
      "cell_type": "code",
      "source": [
        "labels = pd.Categorical(labels, categories = category_labels).codes"
      ],
      "metadata": {
        "id": "LKv73XUYG9RX"
      },
      "execution_count": null,
      "outputs": []
    },
    {
      "cell_type": "code",
      "source": [
        "train_data, test_data, train_labels, test_labels = train_test_split(data, labels, test_size = 1000, random_state = 829,stratify = labels)\n"
      ],
      "metadata": {
        "id": "KhRLFJ_qHJ3O"
      },
      "execution_count": null,
      "outputs": []
    },
    {
      "cell_type": "code",
      "source": [
        "train_data = train_data.reshape(len(train_data),40,40,1)\n",
        "test_data = test_data.reshape(len(test_data),40,40,1)\n",
        "\n",
        "train_labels = to_categorical(train_labels)\n",
        "test_labels = to_categorical(test_labels)\n",
        "\n",
        "# Shuffle data\n",
        "index = np.random.permutation(len(train_labels))\n",
        "(trian_data, trian_labels) = (train_data[index], train_labels[index])\n",
        "\n",
        "print(train_data.shape, train_labels.shape, test_data.shape, test_labels.shape )"
      ],
      "metadata": {
        "id": "YUjyJSzxWhVk",
        "colab": {
          "base_uri": "https://localhost:8080/"
        },
        "outputId": "b073c945-7f03-4e0f-d6c2-473426bd0c0e"
      },
      "execution_count": null,
      "outputs": [
        {
          "output_type": "stream",
          "name": "stdout",
          "text": [
            "(1800, 40, 40, 1) (1800, 10) (1000, 40, 40, 1) (1000, 10)\n"
          ]
        }
      ]
    },
    {
      "cell_type": "code",
      "source": [
        "demo_model = Sequential([\n",
        "    layers.Conv2D(32,9,activation= 'relu', input_shape = (40,40,1)),\n",
        "    layers.MaxPool2D(2),\n",
        "    layers.Conv2D(32,9,activation = 'relu'),\n",
        "    layers.MaxPool2D(2),\n",
        "    layers.Flatten(),\n",
        "    layers.Dense(64,activation = 'relu'),\n",
        "    layers.Dense(96, activation = 'relu'),\n",
        "    layers.Dense(10, activation = 'softmax')\n",
        "])\n",
        "demo_model.summary()"
      ],
      "metadata": {
        "colab": {
          "base_uri": "https://localhost:8080/"
        },
        "id": "X12cSinbH7OF",
        "outputId": "e8c4d7cc-86c2-4f4b-a20c-d47d8984f424"
      },
      "execution_count": null,
      "outputs": [
        {
          "output_type": "stream",
          "name": "stdout",
          "text": [
            "Model: \"sequential_2\"\n",
            "_________________________________________________________________\n",
            " Layer (type)                Output Shape              Param #   \n",
            "=================================================================\n",
            " conv2d_4 (Conv2D)           (None, 32, 32, 32)        2624      \n",
            "                                                                 \n",
            " max_pooling2d_4 (MaxPooling  (None, 16, 16, 32)       0         \n",
            " 2D)                                                             \n",
            "                                                                 \n",
            " conv2d_5 (Conv2D)           (None, 8, 8, 32)          82976     \n",
            "                                                                 \n",
            " max_pooling2d_5 (MaxPooling  (None, 4, 4, 32)         0         \n",
            " 2D)                                                             \n",
            "                                                                 \n",
            " flatten_2 (Flatten)         (None, 512)               0         \n",
            "                                                                 \n",
            " dense_6 (Dense)             (None, 64)                32832     \n",
            "                                                                 \n",
            " dense_7 (Dense)             (None, 96)                6240      \n",
            "                                                                 \n",
            " dense_8 (Dense)             (None, 10)                970       \n",
            "                                                                 \n",
            "=================================================================\n",
            "Total params: 125,642\n",
            "Trainable params: 125,642\n",
            "Non-trainable params: 0\n",
            "_________________________________________________________________\n"
          ]
        }
      ]
    },
    {
      "cell_type": "code",
      "source": [
        "def create_compiled_model():\n",
        "    model = Sequential([\n",
        "    layers.Conv2D(32,9,activation= 'relu', input_shape = (40,40,1)),\n",
        "    layers.MaxPool2D(2),\n",
        "    layers.Conv2D(32,9,activation = 'relu' ),\n",
        "    layers.MaxPool2D(2),\n",
        "    layers.Flatten(),\n",
        "    layers.Dense(64,activation = 'relu'),\n",
        "    layers.Dense(96, activation = 'relu'),\n",
        "    layers.Dense(10, activation = 'softmax')\n",
        "    ])\n",
        "    model.compile(loss = 'categorical_crossentropy', optimizer = tf.keras.optimizers.Adam(learning_rate= 0.001), \n",
        "                  metrics= ['accuracy'])\n",
        "    return model"
      ],
      "metadata": {
        "id": "D3LegejFK9oB"
      },
      "execution_count": null,
      "outputs": []
    },
    {
      "cell_type": "code",
      "source": [
        "res = np.empty(10)\n",
        "res[:] = np.nan\n",
        "for i in range(10):\n",
        "    model = create_compiled_model()\n",
        "    history = model.fit (train_data,train_labels,epochs=45, batch_size = 128, verbose = 0)    # Verbosity is set to zero\n",
        "    res[i] = model.evaluate(test_data, test_labels, batch_size = 128, verbose = 0)[1]          # Verbosity is set to zero\n",
        "    print('Loop iteration %d, Accuracy: %4.4f' % (i+1, res[i]))\n",
        "    if res[i]>=np.max(res[:(i+1)]):\n",
        "        best_model = model"
      ],
      "metadata": {
        "colab": {
          "base_uri": "https://localhost:8080/"
        },
        "id": "WGlFr6oDMur6",
        "outputId": "5e39c4c1-96a6-4510-fd7d-3d79af0f063a"
      },
      "execution_count": null,
      "outputs": [
        {
          "output_type": "stream",
          "name": "stdout",
          "text": [
            "Loop iteration 1, Accuracy: 0.9700\n",
            "Loop iteration 2, Accuracy: 0.9530\n",
            "Loop iteration 3, Accuracy: 0.9570\n",
            "Loop iteration 4, Accuracy: 0.9700\n",
            "Loop iteration 5, Accuracy: 0.9800\n",
            "Loop iteration 6, Accuracy: 0.9750\n",
            "Loop iteration 7, Accuracy: 0.9610\n",
            "Loop iteration 8, Accuracy: 0.9660\n",
            "Loop iteration 9, Accuracy: 0.9750\n",
            "Loop iteration 10, Accuracy: 0.9510\n"
          ]
        }
      ]
    },
    {
      "cell_type": "code",
      "source": [
        "print('Average accuracy:%4.4f'%(np.mean(res))) # After running the model 10 times\n",
        "print(\"Best accuracy: %4.4f\"%(np.max(res)))\n",
        "print(\"Worst accuracy: %4.4f\"%(np.min(res)))\n",
        "print('Standard deviation: %4.4f' % (np.std(res)))"
      ],
      "metadata": {
        "colab": {
          "base_uri": "https://localhost:8080/"
        },
        "id": "oZd7ue3Jmh0i",
        "outputId": "ce0ded1d-4457-4680-ce3b-8cdfefc141d9"
      },
      "execution_count": null,
      "outputs": [
        {
          "output_type": "stream",
          "name": "stdout",
          "text": [
            "Average accuracy:0.9658\n",
            "Best accuracy: 0.9800\n",
            "Worst accuracy: 0.9510\n",
            "Standard deviation: 0.0094\n"
          ]
        }
      ]
    },
    {
      "cell_type": "code",
      "source": [
        "tf.keras.models.save_model(best_model, \"CWRU_CNN_raw_time_domain_data.h5\")"
      ],
      "metadata": {
        "id": "OTlukQCbm0NU"
      },
      "execution_count": null,
      "outputs": []
    },
    {
      "cell_type": "code",
      "source": [
        "prediction = best_model.predict(test_data)\n",
        "prediction_labels = list([])\n",
        "for each_prediction in prediction:\n",
        "    prediction_labels.append(list(each_prediction).index(max(each_prediction)))"
      ],
      "metadata": {
        "id": "IArfd6nYm5Cc"
      },
      "execution_count": null,
      "outputs": []
    },
    {
      "cell_type": "code",
      "source": [
        "from sklearn.metrics import confusion_matrix\n",
        "true_labels = np.argmax(test_labels, axis = 1)\n",
        "matrix = confusion_matrix(true_labels, prediction_labels)"
      ],
      "metadata": {
        "id": "uFtZOmWcnKVf"
      },
      "execution_count": null,
      "outputs": []
    },
    {
      "cell_type": "code",
      "source": [
        "import seaborn as sns\n",
        "matrix = pd.DataFrame(matrix)\n",
        "plt.figure()\n",
        "sns.heatmap(matrix, annot= True, fmt = \"d\",\n",
        "           xticklabels = category_labels,\n",
        "           yticklabels = category_labels, cmap = \"Blues\", cbar = False)\n",
        "plt.xticks(rotation = 90)\n",
        "plt.show()"
      ],
      "metadata": {
        "colab": {
          "base_uri": "https://localhost:8080/",
          "height": 271
        },
        "id": "uX2iihflnY9Q",
        "outputId": "3c7d11cf-f6e0-4b09-b486-3ddd72d90543"
      },
      "execution_count": null,
      "outputs": [
        {
          "output_type": "display_data",
          "data": {
            "text/plain": [
              "<Figure size 432x288 with 1 Axes>"
            ],
            "image/png": "[encoded data removed]"
          },
          "metadata": {
            "needs_background": "light"
          }
        }
      ]
    }
  ]
}